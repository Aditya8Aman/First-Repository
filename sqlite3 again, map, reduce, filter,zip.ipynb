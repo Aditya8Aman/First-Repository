{
 "cells": [
  {
   "cell_type": "code",
   "execution_count": 1,
   "id": "0ad5af37",
   "metadata": {},
   "outputs": [],
   "source": [
    "import sqlite3"
   ]
  },
  {
   "cell_type": "code",
   "execution_count": 2,
   "id": "1f6b2048",
   "metadata": {},
   "outputs": [],
   "source": [
    "db = sqlite3.connect(\"New database\")"
   ]
  },
  {
   "cell_type": "code",
   "execution_count": 3,
   "id": "70aa6317",
   "metadata": {},
   "outputs": [],
   "source": [
    "c=db.cursor()"
   ]
  },
  {
   "cell_type": "code",
   "execution_count": 4,
   "id": "8cef559f",
   "metadata": {},
   "outputs": [
    {
     "data": {
      "text/plain": [
       "<sqlite3.Cursor at 0x1f549f7c730>"
      ]
     },
     "execution_count": 4,
     "metadata": {},
     "output_type": "execute_result"
    }
   ],
   "source": [
    "c.execute(\"create table mytable(name text, batchit int, marks real)\")"
   ]
  },
  {
   "cell_type": "code",
   "execution_count": 5,
   "id": "ec01f5df",
   "metadata": {},
   "outputs": [
    {
     "name": "stdout",
     "output_type": "stream",
     "text": [
      " Volume in drive C has no label.\n",
      " Volume Serial Number is 44BD-A86A\n",
      "\n",
      " Directory of C:\\Users\\MSI\\Untitled Folder\n",
      "\n",
      "04/25/2022  01:09 PM    <DIR>          .\n",
      "04/25/2022  01:09 PM    <DIR>          ..\n",
      "04/25/2022  01:07 PM    <DIR>          .ipynb_checkpoints\n",
      "04/25/2022  01:05 PM             8,192 ineuron.db\n",
      "04/11/2022  08:26 AM            12,288 joindb.db\n",
      "04/11/2022  08:30 AM             8,720 joindb.db-journal\n",
      "04/04/2022  03:08 PM            19,796 Mongodb.ipynb\n",
      "04/25/2022  01:09 PM             8,192 New database\n",
      "04/25/2022  01:05 PM            12,288 person.db\n",
      "04/25/2022  01:07 PM            20,840 SQL lite.ipynb\n",
      "04/25/2022  01:07 PM                72 Untitled.ipynb\n",
      "               8 File(s)         90,388 bytes\n",
      "               3 Dir(s)  68,313,866,240 bytes free\n"
     ]
    }
   ],
   "source": [
    "ls"
   ]
  },
  {
   "cell_type": "code",
   "execution_count": 9,
   "id": "eb7fa166",
   "metadata": {},
   "outputs": [
    {
     "data": {
      "text/plain": [
       "<sqlite3.Cursor at 0x1f549f7c730>"
      ]
     },
     "execution_count": 9,
     "metadata": {},
     "output_type": "execute_result"
    }
   ],
   "source": [
    "c.execute(\"insert into mytable values('Aditya',6,100)\")"
   ]
  },
  {
   "cell_type": "code",
   "execution_count": 12,
   "id": "59a3c4cf",
   "metadata": {},
   "outputs": [
    {
     "data": {
      "text/plain": [
       "<sqlite3.Cursor at 0x1f549f7c730>"
      ]
     },
     "execution_count": 12,
     "metadata": {},
     "output_type": "execute_result"
    }
   ],
   "source": [
    "c.execute(\"insert into mytable values('Aditya',6,100)\")\n",
    "c.execute(\"insert into mytable values('Aditya',6,100)\")\n",
    "c.execute(\"insert into mytable values('Aditya',6,100)\")\n",
    "c.execute(\"insert into mytable values('Aditya',6,100)\")\n",
    "c.execute(\"insert into mytable values('Aditya',6,100)\")\n",
    "c.execute(\"insert into mytable values('Aditya',6,100)\")"
   ]
  },
  {
   "cell_type": "code",
   "execution_count": 28,
   "id": "637c0e2e",
   "metadata": {},
   "outputs": [
    {
     "ename": "OperationalError",
     "evalue": "no such table: mytable",
     "output_type": "error",
     "traceback": [
      "\u001b[1;31m---------------------------------------------------------------------------\u001b[0m",
      "\u001b[1;31mOperationalError\u001b[0m                          Traceback (most recent call last)",
      "\u001b[1;32m~\\AppData\\Local\\Temp/ipykernel_14320/2128215196.py\u001b[0m in \u001b[0;36m<module>\u001b[1;34m\u001b[0m\n\u001b[1;32m----> 1\u001b[1;33m \u001b[1;32mfor\u001b[0m \u001b[0mi\u001b[0m \u001b[1;32min\u001b[0m \u001b[0mc\u001b[0m\u001b[1;33m.\u001b[0m\u001b[0mexecute\u001b[0m\u001b[1;33m(\u001b[0m\u001b[1;34m\"select * from mytable\"\u001b[0m\u001b[1;33m)\u001b[0m\u001b[1;33m:\u001b[0m\u001b[1;33m\u001b[0m\u001b[1;33m\u001b[0m\u001b[0m\n\u001b[0m\u001b[0;32m      2\u001b[0m     \u001b[0mprint\u001b[0m\u001b[1;33m(\u001b[0m\u001b[0mi\u001b[0m\u001b[1;33m)\u001b[0m\u001b[1;33m\u001b[0m\u001b[1;33m\u001b[0m\u001b[0m\n",
      "\u001b[1;31mOperationalError\u001b[0m: no such table: mytable"
     ]
    }
   ],
   "source": [
    "for i in c.execute(\"select * from mytable\"):\n",
    "    print(i)"
   ]
  },
  {
   "cell_type": "code",
   "execution_count": 15,
   "id": "3d225fb7",
   "metadata": {},
   "outputs": [],
   "source": [
    "db.commit()"
   ]
  },
  {
   "cell_type": "code",
   "execution_count": 31,
   "id": "fbf9bbd4",
   "metadata": {},
   "outputs": [],
   "source": [
    "db.close()"
   ]
  },
  {
   "cell_type": "code",
   "execution_count": 32,
   "id": "35f65b9b",
   "metadata": {},
   "outputs": [],
   "source": [
    "db=sqlite3.connect(\"New database.db\")"
   ]
  },
  {
   "cell_type": "code",
   "execution_count": 33,
   "id": "5f2b1048",
   "metadata": {},
   "outputs": [],
   "source": [
    "c=db.cursor()"
   ]
  },
  {
   "cell_type": "code",
   "execution_count": 35,
   "id": "66801c28",
   "metadata": {},
   "outputs": [
    {
     "data": {
      "text/plain": [
       "<sqlite3.Cursor at 0x1f549406490>"
      ]
     },
     "execution_count": 35,
     "metadata": {},
     "output_type": "execute_result"
    }
   ],
   "source": [
    "c.execute(\"create table mytable(name text, batchit int, marks real)\")"
   ]
  },
  {
   "cell_type": "code",
   "execution_count": 36,
   "id": "917209a3",
   "metadata": {},
   "outputs": [
    {
     "data": {
      "text/plain": [
       "<sqlite3.Cursor at 0x1f549406490>"
      ]
     },
     "execution_count": 36,
     "metadata": {},
     "output_type": "execute_result"
    }
   ],
   "source": [
    "c.execute(\"insert into mytable values('Aditya',6,00)\")\n",
    "c.execute(\"insert into mytable values('Aditya',6,50)\")\n",
    "c.execute(\"insert into mytable values('Aditya',6,100)\")\n",
    "c.execute(\"insert into mytable values('Aditya',6,200)\")\n",
    "c.execute(\"insert into mytable values('Aditya',6,300)\")\n",
    "c.execute(\"insert into mytable values('Aditya',6,400)\")"
   ]
  },
  {
   "cell_type": "code",
   "execution_count": 42,
   "id": "53ba6d6f",
   "metadata": {},
   "outputs": [
    {
     "name": "stdout",
     "output_type": "stream",
     "text": [
      "('Aditya', 200.0)\n",
      "('Aditya', 300.0)\n",
      "('Aditya', 400.0)\n"
     ]
    }
   ],
   "source": [
    "for i in c.execute(\"select name,marks from mytable where marks >100 order by marks \"):\n",
    "    print(i)"
   ]
  },
  {
   "cell_type": "code",
   "execution_count": 43,
   "id": "d4d12e83",
   "metadata": {},
   "outputs": [],
   "source": [
    "db=sqlite3.connect(\"person.db\")"
   ]
  },
  {
   "cell_type": "code",
   "execution_count": 44,
   "id": "fda3223a",
   "metadata": {},
   "outputs": [],
   "source": [
    "c=db.cursor()"
   ]
  },
  {
   "cell_type": "code",
   "execution_count": 46,
   "id": "ac54df21",
   "metadata": {},
   "outputs": [
    {
     "name": "stdout",
     "output_type": "stream",
     "text": [
      "('A', 'Aklkaflkj', 5454, 455454.0)\n",
      "('V', 'adadkdddlkj', 777, 455454.0)\n",
      "('j', 'adadkdddlkj', 77, 45546544.0)\n",
      "('p', '455454lkj', 468, 100004.0)\n",
      "('A', 'Aklkaflkj', 5454, 455454.0)\n",
      "('V', 'adadkdddlkj', 777, 455454.0)\n",
      "('j', 'adadkdddlkj', 77, 45546544.0)\n",
      "('p', '455454lkj', 468, 100004.0)\n"
     ]
    }
   ],
   "source": [
    "for i in c.execute(\"select * from person_table\"):\n",
    "    print(i)"
   ]
  },
  {
   "cell_type": "code",
   "execution_count": 48,
   "id": "959e9b18",
   "metadata": {},
   "outputs": [],
   "source": [
    "db.commit()"
   ]
  },
  {
   "cell_type": "code",
   "execution_count": 49,
   "id": "c483af4c",
   "metadata": {},
   "outputs": [
    {
     "name": "stdout",
     "output_type": "stream",
     "text": [
      "('A', 'Aklkaflkj', 5454, 455454.0)\n",
      "('V', 'adadkdddlkj', 777, 455454.0)\n",
      "('j', 'adadkdddlkj', 77, 45546544.0)\n"
     ]
    }
   ],
   "source": [
    "for i in c.execute(\"select * from person_table limit 3\"):\n",
    "    print(i)"
   ]
  },
  {
   "cell_type": "code",
   "execution_count": 50,
   "id": "984798c5",
   "metadata": {},
   "outputs": [
    {
     "name": "stdout",
     "output_type": "stream",
     "text": [
      "('A', 'Aklkaflkj', 5454, 455454.0)\n",
      "('V', 'adadkdddlkj', 777, 455454.0)\n",
      "('j', 'adadkdddlkj', 77, 45546544.0)\n",
      "('p', '455454lkj', 468, 100004.0)\n",
      "('A', 'Aklkaflkj', 5454, 455454.0)\n",
      "('V', 'adadkdddlkj', 777, 455454.0)\n",
      "('j', 'adadkdddlkj', 77, 45546544.0)\n",
      "('p', '455454lkj', 468, 100004.0)\n"
     ]
    }
   ],
   "source": [
    "for i in c.execute(\"select * from person_table\"):\n",
    "    print(i)"
   ]
  },
  {
   "cell_type": "code",
   "execution_count": 2,
   "id": "7204ad82",
   "metadata": {},
   "outputs": [],
   "source": [
    "import sqlite3"
   ]
  },
  {
   "cell_type": "code",
   "execution_count": 3,
   "id": "b279a80e",
   "metadata": {},
   "outputs": [],
   "source": [
    "db=sqlite3.connect(\"joindb.db\")"
   ]
  },
  {
   "cell_type": "code",
   "execution_count": 4,
   "id": "3ce59777",
   "metadata": {},
   "outputs": [],
   "source": [
    "c=db.cursor()"
   ]
  },
  {
   "cell_type": "code",
   "execution_count": 5,
   "id": "ddcda0f4",
   "metadata": {},
   "outputs": [
    {
     "ename": "OperationalError",
     "evalue": "table student already exists",
     "output_type": "error",
     "traceback": [
      "\u001b[1;31m---------------------------------------------------------------------------\u001b[0m",
      "\u001b[1;31mOperationalError\u001b[0m                          Traceback (most recent call last)",
      "\u001b[1;32m~\\AppData\\Local\\Temp/ipykernel_10840/1314671212.py\u001b[0m in \u001b[0;36m<module>\u001b[1;34m\u001b[0m\n\u001b[1;32m----> 1\u001b[1;33m \u001b[0mc\u001b[0m\u001b[1;33m.\u001b[0m\u001b[0mexecute\u001b[0m\u001b[1;33m(\u001b[0m\u001b[1;34m\"create table student(student_id int, student_name text, student_mail text, marks int)\"\u001b[0m\u001b[1;33m)\u001b[0m\u001b[1;33m\u001b[0m\u001b[1;33m\u001b[0m\u001b[0m\n\u001b[0m\u001b[0;32m      2\u001b[0m \u001b[0mc\u001b[0m\u001b[1;33m.\u001b[0m\u001b[0mexecute\u001b[0m\u001b[1;33m(\u001b[0m\u001b[1;34m\"create table address(student_id int,pincode int, location text, nearby text,phone_no int)\"\u001b[0m\u001b[1;33m)\u001b[0m\u001b[1;33m\u001b[0m\u001b[1;33m\u001b[0m\u001b[0m\n",
      "\u001b[1;31mOperationalError\u001b[0m: table student already exists"
     ]
    }
   ],
   "source": [
    "c.execute(\"create table student(student_id int, student_name text, student_mail text, marks int)\")\n",
    "c.execute(\"create table address(student_id int,pincode int, location text, nearby text,phone_no int)\")"
   ]
  },
  {
   "cell_type": "code",
   "execution_count": 12,
   "id": "95c1fcbc",
   "metadata": {},
   "outputs": [
    {
     "ename": "OperationalError",
     "evalue": "database is locked",
     "output_type": "error",
     "traceback": [
      "\u001b[1;31m---------------------------------------------------------------------------\u001b[0m",
      "\u001b[1;31mOperationalError\u001b[0m                          Traceback (most recent call last)",
      "\u001b[1;32m~\\AppData\\Local\\Temp/ipykernel_10840/3379704558.py\u001b[0m in \u001b[0;36m<module>\u001b[1;34m\u001b[0m\n\u001b[1;32m----> 1\u001b[1;33m \u001b[0mc\u001b[0m\u001b[1;33m.\u001b[0m\u001b[0mexecute\u001b[0m\u001b[1;33m(\u001b[0m\u001b[1;34m\"insert into student values(7,'Bditya','Bditya@1.com',79)\"\u001b[0m\u001b[1;33m)\u001b[0m\u001b[1;33m\u001b[0m\u001b[1;33m\u001b[0m\u001b[0m\n\u001b[0m\u001b[0;32m      2\u001b[0m \u001b[0mc\u001b[0m\u001b[1;33m.\u001b[0m\u001b[0mexecute\u001b[0m\u001b[1;33m(\u001b[0m\u001b[1;34m\"insert into student values(8,'Cditya','Cditya@1.com',89)\"\u001b[0m\u001b[1;33m)\u001b[0m\u001b[1;33m\u001b[0m\u001b[1;33m\u001b[0m\u001b[0m\n\u001b[0;32m      3\u001b[0m \u001b[0mc\u001b[0m\u001b[1;33m.\u001b[0m\u001b[0mexecute\u001b[0m\u001b[1;33m(\u001b[0m\u001b[1;34m\"insert into student values(9,'Cditya','Cditya@1.com',89)\"\u001b[0m\u001b[1;33m)\u001b[0m\u001b[1;33m\u001b[0m\u001b[1;33m\u001b[0m\u001b[0m\n\u001b[0;32m      4\u001b[0m \u001b[0mc\u001b[0m\u001b[1;33m.\u001b[0m\u001b[0mexecute\u001b[0m\u001b[1;33m(\u001b[0m\u001b[1;34m\"insert into student values(10,'Cditya','Cditya@1.com',89)\"\u001b[0m\u001b[1;33m)\u001b[0m\u001b[1;33m\u001b[0m\u001b[1;33m\u001b[0m\u001b[0m\n\u001b[0;32m      5\u001b[0m \u001b[0mc\u001b[0m\u001b[1;33m.\u001b[0m\u001b[0mexecute\u001b[0m\u001b[1;33m(\u001b[0m\u001b[1;34m\"insert into student values(11,'Cditya','Cditya@1.com',89)\"\u001b[0m\u001b[1;33m)\u001b[0m\u001b[1;33m\u001b[0m\u001b[1;33m\u001b[0m\u001b[0m\n",
      "\u001b[1;31mOperationalError\u001b[0m: database is locked"
     ]
    }
   ],
   "source": [
    "c.execute(\"insert into student values(7,'Bditya','Bditya@1.com',79)\")\n",
    "c.execute(\"insert into student values(8,'Cditya','Cditya@1.com',89)\")\n",
    "c.execute(\"insert into student values(9,'Cditya','Cditya@1.com',89)\")\n",
    "c.execute(\"insert into student values(10,'Cditya','Cditya@1.com',89)\")\n",
    "c.execute(\"insert into student values(11,'Cditya','Cditya@1.com',89)\")"
   ]
  },
  {
   "cell_type": "code",
   "execution_count": null,
   "id": "c0a1f12c",
   "metadata": {},
   "outputs": [],
   "source": [
    "db.commit()"
   ]
  },
  {
   "cell_type": "code",
   "execution_count": 13,
   "id": "3ae2f8c4",
   "metadata": {},
   "outputs": [],
   "source": [
    "dta=c.execute(\"select * from student\")"
   ]
  },
  {
   "cell_type": "code",
   "execution_count": 14,
   "id": "7965d71d",
   "metadata": {},
   "outputs": [],
   "source": [
    "for i in dta:\n",
    "    print(i)"
   ]
  },
  {
   "cell_type": "code",
   "execution_count": 15,
   "id": "73a22db0",
   "metadata": {},
   "outputs": [],
   "source": [
    "db.close()"
   ]
  },
  {
   "cell_type": "code",
   "execution_count": 16,
   "id": "6bc8276f",
   "metadata": {},
   "outputs": [],
   "source": [
    "db=sqlite3.connect(\"join.db\")"
   ]
  },
  {
   "cell_type": "code",
   "execution_count": 17,
   "id": "ddad99d4",
   "metadata": {},
   "outputs": [],
   "source": [
    "c=db.cursor()"
   ]
  },
  {
   "cell_type": "code",
   "execution_count": 18,
   "id": "5c58bfec",
   "metadata": {},
   "outputs": [
    {
     "data": {
      "text/plain": [
       "<sqlite3.Cursor at 0x191cef1fce0>"
      ]
     },
     "execution_count": 18,
     "metadata": {},
     "output_type": "execute_result"
    }
   ],
   "source": [
    "c.execute(\"create table first(name text,pincode int,country text)\")"
   ]
  },
  {
   "cell_type": "code",
   "execution_count": 19,
   "id": "a921aefd",
   "metadata": {},
   "outputs": [
    {
     "data": {
      "text/plain": [
       "<sqlite3.Cursor at 0x191cef1fce0>"
      ]
     },
     "execution_count": 19,
     "metadata": {},
     "output_type": "execute_result"
    }
   ],
   "source": [
    "c.execute(\"create table second(pincode int,continent text)\")"
   ]
  },
  {
   "cell_type": "code",
   "execution_count": 21,
   "id": "77de58b3",
   "metadata": {},
   "outputs": [
    {
     "data": {
      "text/plain": [
       "<sqlite3.Cursor at 0x191cef1fce0>"
      ]
     },
     "execution_count": 21,
     "metadata": {},
     "output_type": "execute_result"
    }
   ],
   "source": [
    "c.execute(\"insert into first values('AAAAAA',111,'india')\")\n",
    "c.execute(\"insert into first values('BBBBBB',333,'india')\")\n",
    "c.execute(\"insert into first values('CCCCCC',222,'india')\")\n",
    "c.execute(\"insert into first values('DDDDDD',555,'india')\")"
   ]
  },
  {
   "cell_type": "code",
   "execution_count": 23,
   "id": "29e772a5",
   "metadata": {},
   "outputs": [
    {
     "data": {
      "text/plain": [
       "<sqlite3.Cursor at 0x191cef1fce0>"
      ]
     },
     "execution_count": 23,
     "metadata": {},
     "output_type": "execute_result"
    }
   ],
   "source": [
    "c.execute(\"insert into second values(111, 'asia')\")"
   ]
  },
  {
   "cell_type": "code",
   "execution_count": 24,
   "id": "7c606d7f",
   "metadata": {},
   "outputs": [
    {
     "data": {
      "text/plain": [
       "<sqlite3.Cursor at 0x191cef1fce0>"
      ]
     },
     "execution_count": 24,
     "metadata": {},
     "output_type": "execute_result"
    }
   ],
   "source": [
    "c.execute(\"insert into second values(333, 'asia')\")\n",
    "c.execute(\"insert into second values(444, 'europe')\")\n",
    "c.execute(\"insert into second values(555, 'africa')\")"
   ]
  },
  {
   "cell_type": "code",
   "execution_count": 25,
   "id": "7d2fc6f5",
   "metadata": {},
   "outputs": [
    {
     "name": "stdout",
     "output_type": "stream",
     "text": [
      "('AAAAAA', 111, 'india')\n",
      "('BBBBBB', 333, 'india')\n",
      "('CCCCCC', 222, 'india')\n",
      "('DDDDDD', 555, 'india')\n"
     ]
    }
   ],
   "source": [
    "for i in c.execute(\"select * from first\"):\n",
    "    print(i)"
   ]
  },
  {
   "cell_type": "code",
   "execution_count": 28,
   "id": "fda917ac",
   "metadata": {},
   "outputs": [
    {
     "name": "stdout",
     "output_type": "stream",
     "text": [
      "('AAAAAA', 'asia')\n",
      "('BBBBBB', 'asia')\n",
      "('DDDDDD', 'africa')\n"
     ]
    }
   ],
   "source": [
    "for i in c.execute(\"select f.name,s.continent from first f left join second s where f.pincode = s.pincode\"):\n",
    "    print(i)"
   ]
  },
  {
   "cell_type": "code",
   "execution_count": 33,
   "id": "e743836c",
   "metadata": {},
   "outputs": [
    {
     "name": "stdout",
     "output_type": "stream",
     "text": [
      "('AAAAAA', 111, 'india', 111, 'asia')\n",
      "('BBBBBB', 333, 'india', 333, 'asia')\n",
      "('CCCCCC', 222, 'india', None, None)\n",
      "('DDDDDD', 555, 'india', 555, 'africa')\n"
     ]
    }
   ],
   "source": [
    "for i in c.execute(\"select * from first f left join second s on f.pincode = s.pincode\"):\n",
    "    print(i)"
   ]
  },
  {
   "cell_type": "code",
   "execution_count": 37,
   "id": "dee702e3",
   "metadata": {},
   "outputs": [
    {
     "name": "stdout",
     "output_type": "stream",
     "text": [
      "('AAAAAA', 111, 'india', 111, 'asia')\n",
      "('BBBBBB', 333, 'india', 333, 'asia')\n",
      "('DDDDDD', 555, 'india', 555, 'africa')\n"
     ]
    }
   ],
   "source": [
    "for i in c.execute(\"select * from first f left join second s on f.pincode = s.pincode where s.pincode is not null\"):\n",
    "    print(i)"
   ]
  },
  {
   "cell_type": "code",
   "execution_count": 36,
   "id": "6081e93e",
   "metadata": {},
   "outputs": [
    {
     "name": "stdout",
     "output_type": "stream",
     "text": [
      "('BBBBBB', 333, 'india', 333, 'asia')\n",
      "('DDDDDD', 555, 'india', 555, 'africa')\n"
     ]
    }
   ],
   "source": [
    "for i in c.execute(\"select * from first f left join second s on f.pincode = s.pincode where s.pincode >200\"):\n",
    "    print(i)"
   ]
  },
  {
   "cell_type": "code",
   "execution_count": 38,
   "id": "aef6c1e3",
   "metadata": {},
   "outputs": [
    {
     "ename": "OperationalError",
     "evalue": "RIGHT and FULL OUTER JOINs are not currently supported",
     "output_type": "error",
     "traceback": [
      "\u001b[1;31m---------------------------------------------------------------------------\u001b[0m",
      "\u001b[1;31mOperationalError\u001b[0m                          Traceback (most recent call last)",
      "\u001b[1;32m~\\AppData\\Local\\Temp/ipykernel_10840/721732587.py\u001b[0m in \u001b[0;36m<module>\u001b[1;34m\u001b[0m\n\u001b[1;32m----> 1\u001b[1;33m \u001b[1;32mfor\u001b[0m \u001b[0mi\u001b[0m \u001b[1;32min\u001b[0m \u001b[0mc\u001b[0m\u001b[1;33m.\u001b[0m\u001b[0mexecute\u001b[0m\u001b[1;33m(\u001b[0m\u001b[1;34m\"select * from first f right join second s on f.pincode = s.pincode\"\u001b[0m\u001b[1;33m)\u001b[0m\u001b[1;33m:\u001b[0m\u001b[1;33m\u001b[0m\u001b[1;33m\u001b[0m\u001b[0m\n\u001b[0m\u001b[0;32m      2\u001b[0m     \u001b[0mprint\u001b[0m\u001b[1;33m(\u001b[0m\u001b[0mi\u001b[0m\u001b[1;33m)\u001b[0m\u001b[1;33m\u001b[0m\u001b[1;33m\u001b[0m\u001b[0m\n",
      "\u001b[1;31mOperationalError\u001b[0m: RIGHT and FULL OUTER JOINs are not currently supported"
     ]
    }
   ],
   "source": [
    "for i in c.execute(\"select * from first f right join second s on f.pincode = s.pincode\"):\n",
    "    print(i)"
   ]
  },
  {
   "cell_type": "markdown",
   "id": "a905fcdd",
   "metadata": {},
   "source": [
    "right join is not possible in sqlite "
   ]
  },
  {
   "cell_type": "code",
   "execution_count": 39,
   "id": "6221efe8",
   "metadata": {},
   "outputs": [
    {
     "data": {
      "text/plain": [
       "<sqlite3.Cursor at 0x191cef1fce0>"
      ]
     },
     "execution_count": 39,
     "metadata": {},
     "output_type": "execute_result"
    }
   ],
   "source": [
    "c.execute(\"delete from first where pincode>554\")"
   ]
  },
  {
   "cell_type": "code",
   "execution_count": 40,
   "id": "9c79f4d4",
   "metadata": {},
   "outputs": [
    {
     "name": "stdout",
     "output_type": "stream",
     "text": [
      "('AAAAAA', 111, 'india')\n",
      "('BBBBBB', 333, 'india')\n",
      "('CCCCCC', 222, 'india')\n"
     ]
    }
   ],
   "source": [
    "for i in c.execute(\"select * from first\"):\n",
    "    print(i)"
   ]
  },
  {
   "cell_type": "code",
   "execution_count": 41,
   "id": "95775d34",
   "metadata": {},
   "outputs": [
    {
     "data": {
      "text/plain": [
       "[('AAAAAA', 111, 'india'), ('BBBBBB', 333, 'india'), ('CCCCCC', 222, 'india')]"
      ]
     },
     "execution_count": 41,
     "metadata": {},
     "output_type": "execute_result"
    }
   ],
   "source": [
    "c.execute(\"select * from first\").fetchall()"
   ]
  },
  {
   "cell_type": "code",
   "execution_count": 42,
   "id": "a5ece448",
   "metadata": {},
   "outputs": [
    {
     "data": {
      "text/plain": [
       "<sqlite3.Cursor at 0x191cef1fce0>"
      ]
     },
     "execution_count": 42,
     "metadata": {},
     "output_type": "execute_result"
    }
   ],
   "source": [
    "c.execute(\"update first set name='QQQQQQQ' where pincode=111\")"
   ]
  },
  {
   "cell_type": "code",
   "execution_count": 43,
   "id": "1a1d9fce",
   "metadata": {},
   "outputs": [
    {
     "data": {
      "text/plain": [
       "[('QQQQQQQ', 111, 'india'), ('BBBBBB', 333, 'india'), ('CCCCCC', 222, 'india')]"
      ]
     },
     "execution_count": 43,
     "metadata": {},
     "output_type": "execute_result"
    }
   ],
   "source": [
    "c.execute(\"select * from first\").fetchall()"
   ]
  },
  {
   "cell_type": "code",
   "execution_count": 49,
   "id": "ee1df92a",
   "metadata": {},
   "outputs": [],
   "source": [
    "l=[1,2,4]\n",
    "l1=[]\n",
    "for i in l:\n",
    "    l1.append(i+5)\n"
   ]
  },
  {
   "cell_type": "code",
   "execution_count": 50,
   "id": "ad1dd88b",
   "metadata": {},
   "outputs": [
    {
     "data": {
      "text/plain": [
       "[6, 7, 9]"
      ]
     },
     "execution_count": 50,
     "metadata": {},
     "output_type": "execute_result"
    }
   ],
   "source": [
    "l1"
   ]
  },
  {
   "cell_type": "code",
   "execution_count": 51,
   "id": "e5185c0d",
   "metadata": {},
   "outputs": [
    {
     "data": {
      "text/plain": [
       "[6, 7, 9]"
      ]
     },
     "execution_count": 51,
     "metadata": {},
     "output_type": "execute_result"
    }
   ],
   "source": [
    "[i+5 for i in l]"
   ]
  },
  {
   "cell_type": "markdown",
   "id": "2585e3de",
   "metadata": {},
   "source": [
    "# map function"
   ]
  },
  {
   "cell_type": "code",
   "execution_count": 52,
   "id": "e41f1466",
   "metadata": {},
   "outputs": [],
   "source": [
    "def test(a):\n",
    "    return a+5"
   ]
  },
  {
   "cell_type": "code",
   "execution_count": 54,
   "id": "f57d1802",
   "metadata": {},
   "outputs": [
    {
     "data": {
      "text/plain": [
       "[6, 7, 9]"
      ]
     },
     "execution_count": 54,
     "metadata": {},
     "output_type": "execute_result"
    }
   ],
   "source": [
    "list(map(test, l))"
   ]
  },
  {
   "cell_type": "code",
   "execution_count": 55,
   "id": "8f20a383",
   "metadata": {},
   "outputs": [],
   "source": [
    "def tes(a):\n",
    "    return a*a"
   ]
  },
  {
   "cell_type": "code",
   "execution_count": 56,
   "id": "b4080df9",
   "metadata": {},
   "outputs": [
    {
     "data": {
      "text/plain": [
       "[1, 4, 16]"
      ]
     },
     "execution_count": 56,
     "metadata": {},
     "output_type": "execute_result"
    }
   ],
   "source": [
    "list(map(tes,l))"
   ]
  },
  {
   "cell_type": "code",
   "execution_count": 57,
   "id": "9dce8a71",
   "metadata": {},
   "outputs": [],
   "source": [
    "l1=['123','2222','2223']"
   ]
  },
  {
   "cell_type": "code",
   "execution_count": 58,
   "id": "8cd4ab10",
   "metadata": {},
   "outputs": [],
   "source": [
    "def test3(a):\n",
    "    return(int(a))"
   ]
  },
  {
   "cell_type": "code",
   "execution_count": 61,
   "id": "f11d72b3",
   "metadata": {},
   "outputs": [
    {
     "data": {
      "text/plain": [
       "[123, 2222, 2223]"
      ]
     },
     "execution_count": 61,
     "metadata": {},
     "output_type": "execute_result"
    }
   ],
   "source": [
    "list(map(test3,l1))"
   ]
  },
  {
   "cell_type": "code",
   "execution_count": 63,
   "id": "a7b2835b",
   "metadata": {},
   "outputs": [
    {
     "data": {
      "text/plain": [
       "[123, 2222, 2223]"
      ]
     },
     "execution_count": 63,
     "metadata": {},
     "output_type": "execute_result"
    }
   ],
   "source": [
    "list(map(lambda a:int(a),l1))"
   ]
  },
  {
   "cell_type": "markdown",
   "id": "76ab8910",
   "metadata": {},
   "source": [
    "lambda function:   "
   ]
  },
  {
   "cell_type": "code",
   "execution_count": 65,
   "id": "f26ec023",
   "metadata": {},
   "outputs": [],
   "source": [
    "g=lambda x:x*x"
   ]
  },
  {
   "cell_type": "code",
   "execution_count": 66,
   "id": "e504fb52",
   "metadata": {},
   "outputs": [
    {
     "data": {
      "text/plain": [
       "4"
      ]
     },
     "execution_count": 66,
     "metadata": {},
     "output_type": "execute_result"
    }
   ],
   "source": [
    "g(2)"
   ]
  },
  {
   "cell_type": "markdown",
   "id": "0b9078b8",
   "metadata": {},
   "source": [
    "# filter function"
   ]
  },
  {
   "cell_type": "code",
   "execution_count": 68,
   "id": "cbf4cca2",
   "metadata": {},
   "outputs": [],
   "source": [
    "def test4(a):\n",
    "    if a%2==0:\n",
    "        return a"
   ]
  },
  {
   "cell_type": "code",
   "execution_count": 70,
   "id": "f6c8316d",
   "metadata": {},
   "outputs": [],
   "source": [
    "l=[1,2,34,4,5,6,33,0]"
   ]
  },
  {
   "cell_type": "code",
   "execution_count": 71,
   "id": "fb503acc",
   "metadata": {},
   "outputs": [
    {
     "data": {
      "text/plain": [
       "[2, 34, 4, 6, 0]"
      ]
     },
     "execution_count": 71,
     "metadata": {},
     "output_type": "execute_result"
    }
   ],
   "source": [
    "#comprehension statement\n",
    "[i for i in l if i%2==0]"
   ]
  },
  {
   "cell_type": "code",
   "execution_count": 72,
   "id": "2f82fac0",
   "metadata": {},
   "outputs": [
    {
     "data": {
      "text/plain": [
       "[2, 34, 4, 6]"
      ]
     },
     "execution_count": 72,
     "metadata": {},
     "output_type": "execute_result"
    }
   ],
   "source": [
    "list(filter(test4,l))"
   ]
  },
  {
   "cell_type": "markdown",
   "id": "ebbcc7e5",
   "metadata": {},
   "source": [
    "Map takes all objects in a list and allows you to apply a function to it whereas Filter takes all objects in a list and runs that through a function to create a new list with all objects that return True in that function."
   ]
  },
  {
   "cell_type": "code",
   "execution_count": 73,
   "id": "629e5ce0",
   "metadata": {},
   "outputs": [
    {
     "data": {
      "text/plain": [
       "[2, 34, 4, 6, 0]"
      ]
     },
     "execution_count": 73,
     "metadata": {},
     "output_type": "execute_result"
    }
   ],
   "source": [
    "list(filter(lambda x:x%2==0,l))"
   ]
  },
  {
   "cell_type": "code",
   "execution_count": 75,
   "id": "5aea7e98",
   "metadata": {},
   "outputs": [
    {
     "data": {
      "text/plain": [
       "[1, 2, 34, 4, 5, 6, 33, 0]"
      ]
     },
     "execution_count": 75,
     "metadata": {},
     "output_type": "execute_result"
    }
   ],
   "source": [
    "#nothing happens, no change\n",
    "list(filter(lambda x:x+2,l))"
   ]
  },
  {
   "cell_type": "code",
   "execution_count": 76,
   "id": "eb3a09d2",
   "metadata": {},
   "outputs": [
    {
     "data": {
      "text/plain": [
       "[6, 33, 0]"
      ]
     },
     "execution_count": 76,
     "metadata": {},
     "output_type": "execute_result"
    }
   ],
   "source": [
    "list(filter(lambda x:x%3==0,l))"
   ]
  },
  {
   "cell_type": "markdown",
   "id": "6ae517d7",
   "metadata": {},
   "source": [
    "# reduce function"
   ]
  },
  {
   "cell_type": "code",
   "execution_count": 77,
   "id": "079e6eb6",
   "metadata": {},
   "outputs": [],
   "source": [
    "from functools import reduce"
   ]
  },
  {
   "cell_type": "code",
   "execution_count": 94,
   "id": "94a64b28",
   "metadata": {},
   "outputs": [],
   "source": [
    "l=[2,3,3,45,5,66,22]"
   ]
  },
  {
   "cell_type": "code",
   "execution_count": 79,
   "id": "24c4e38f",
   "metadata": {},
   "outputs": [
    {
     "data": {
      "text/plain": [
       "146"
      ]
     },
     "execution_count": 79,
     "metadata": {},
     "output_type": "execute_result"
    }
   ],
   "source": [
    "sum(l)"
   ]
  },
  {
   "cell_type": "code",
   "execution_count": 80,
   "id": "90df4193",
   "metadata": {},
   "outputs": [],
   "source": [
    "def test5(a,b):\n",
    "    return a+b"
   ]
  },
  {
   "cell_type": "code",
   "execution_count": 81,
   "id": "0948cb40",
   "metadata": {},
   "outputs": [
    {
     "data": {
      "text/plain": [
       "146"
      ]
     },
     "execution_count": 81,
     "metadata": {},
     "output_type": "execute_result"
    }
   ],
   "source": [
    "reduce(test5,l)"
   ]
  },
  {
   "cell_type": "code",
   "execution_count": 83,
   "id": "fac5ace3",
   "metadata": {},
   "outputs": [],
   "source": [
    "def test6(a,b,c):\n",
    "    return a+b+c"
   ]
  },
  {
   "cell_type": "code",
   "execution_count": 84,
   "id": "1b555827",
   "metadata": {},
   "outputs": [
    {
     "ename": "TypeError",
     "evalue": "test6() missing 1 required positional argument: 'c'",
     "output_type": "error",
     "traceback": [
      "\u001b[1;31m---------------------------------------------------------------------------\u001b[0m",
      "\u001b[1;31mTypeError\u001b[0m                                 Traceback (most recent call last)",
      "\u001b[1;32m~\\AppData\\Local\\Temp/ipykernel_10840/2277181660.py\u001b[0m in \u001b[0;36m<module>\u001b[1;34m\u001b[0m\n\u001b[1;32m----> 1\u001b[1;33m \u001b[0mreduce\u001b[0m\u001b[1;33m(\u001b[0m\u001b[0mtest6\u001b[0m\u001b[1;33m,\u001b[0m\u001b[0ml\u001b[0m\u001b[1;33m)\u001b[0m\u001b[1;33m\u001b[0m\u001b[1;33m\u001b[0m\u001b[0m\n\u001b[0m",
      "\u001b[1;31mTypeError\u001b[0m: test6() missing 1 required positional argument: 'c'"
     ]
    }
   ],
   "source": [
    "reduce(test6,l)"
   ]
  },
  {
   "cell_type": "markdown",
   "id": "62cd9565",
   "metadata": {},
   "source": [
    "reduce consider 2 arguments\n",
    "but with one element, it considers second as 0"
   ]
  },
  {
   "cell_type": "code",
   "execution_count": 91,
   "id": "ae4e5d6f",
   "metadata": {},
   "outputs": [],
   "source": [
    "l=[8]"
   ]
  },
  {
   "cell_type": "code",
   "execution_count": 92,
   "id": "3ceb825d",
   "metadata": {},
   "outputs": [
    {
     "data": {
      "text/plain": [
       "8"
      ]
     },
     "execution_count": 92,
     "metadata": {},
     "output_type": "execute_result"
    }
   ],
   "source": [
    "reduce(test5,l)"
   ]
  },
  {
   "cell_type": "code",
   "execution_count": 95,
   "id": "c9ebb9e5",
   "metadata": {},
   "outputs": [
    {
     "data": {
      "text/plain": [
       "146"
      ]
     },
     "execution_count": 95,
     "metadata": {},
     "output_type": "execute_result"
    }
   ],
   "source": [
    "reduce(lambda x,y:x+y ,l)"
   ]
  },
  {
   "cell_type": "code",
   "execution_count": 96,
   "id": "78b5bbd2",
   "metadata": {},
   "outputs": [],
   "source": [
    "l=[1,2,3,4,5,6]"
   ]
  },
  {
   "cell_type": "code",
   "execution_count": 99,
   "id": "bf93d89d",
   "metadata": {},
   "outputs": [],
   "source": [
    "l1=[\"a\",\"b\",\"c\",\"d\",\"e\",\"f\"]"
   ]
  },
  {
   "cell_type": "code",
   "execution_count": 100,
   "id": "efa1c15c",
   "metadata": {},
   "outputs": [
    {
     "data": {
      "text/plain": [
       "[(1, 'a'), (2, 'b'), (3, 'c'), (4, 'd'), (5, 'e'), (6, 'f')]"
      ]
     },
     "execution_count": 100,
     "metadata": {},
     "output_type": "execute_result"
    }
   ],
   "source": [
    "list(zip(l,l1))"
   ]
  },
  {
   "cell_type": "code",
   "execution_count": 101,
   "id": "7752b408",
   "metadata": {},
   "outputs": [],
   "source": [
    "l2=[6,5,6,6]"
   ]
  },
  {
   "cell_type": "code",
   "execution_count": 102,
   "id": "56a7521a",
   "metadata": {},
   "outputs": [
    {
     "data": {
      "text/plain": [
       "[(1, 'a', 6), (2, 'b', 5), (3, 'c', 6), (4, 'd', 6)]"
      ]
     },
     "execution_count": 102,
     "metadata": {},
     "output_type": "execute_result"
    }
   ],
   "source": [
    "list(zip(l,l1,l2))"
   ]
  },
  {
   "cell_type": "markdown",
   "id": "7fceb8e7",
   "metadata": {},
   "source": [
    "# task:"
   ]
  },
  {
   "cell_type": "code",
   "execution_count": null,
   "id": "a1e283a8",
   "metadata": {},
   "outputs": [],
   "source": [
    "q1: try to count of every word-tupple form\n",
    "q2: reduce operation to get a count of all the words starting with same alphabet in one list\n",
    "    sample- [(a,56),(b,8)]\n",
    "q3: filter all words(no numbers or puntuation)\n",
    "q4: create a tuple of all records of 5 files and store in sqlite db (dfjdhf,sdfds,dd) zip\n"
   ]
  },
  {
   "cell_type": "code",
   "execution_count": 103,
   "id": "057bb41b",
   "metadata": {},
   "outputs": [],
   "source": []
  },
  {
   "cell_type": "code",
   "execution_count": null,
   "id": "3591252a",
   "metadata": {},
   "outputs": [],
   "source": []
  }
 ],
 "metadata": {
  "kernelspec": {
   "display_name": "Python 3 (ipykernel)",
   "language": "python",
   "name": "python3"
  },
  "language_info": {
   "codemirror_mode": {
    "name": "ipython",
    "version": 3
   },
   "file_extension": ".py",
   "mimetype": "text/x-python",
   "name": "python",
   "nbconvert_exporter": "python",
   "pygments_lexer": "ipython3",
   "version": "3.9.7"
  }
 },
 "nbformat": 4,
 "nbformat_minor": 5
}
