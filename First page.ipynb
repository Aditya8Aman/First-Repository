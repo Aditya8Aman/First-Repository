{
 "cells": [
  {
   "cell_type": "code",
   "execution_count": 1,
   "id": "b92d06d3",
   "metadata": {},
   "outputs": [
    {
     "data": {
      "text/plain": [
       "3"
      ]
     },
     "execution_count": 1,
     "metadata": {},
     "output_type": "execute_result"
    }
   ],
   "source": [
    "1+2"
   ]
  },
  {
   "cell_type": "code",
   "execution_count": 2,
   "id": "9d6ab9e4",
   "metadata": {},
   "outputs": [
    {
     "data": {
      "text/plain": [
       "'Aman'"
      ]
     },
     "execution_count": 2,
     "metadata": {},
     "output_type": "execute_result"
    }
   ],
   "source": [
    "\"Aman\""
   ]
  },
  {
   "cell_type": "code",
   "execution_count": 3,
   "id": "86ede896",
   "metadata": {},
   "outputs": [
    {
     "data": {
      "text/plain": [
       "3456"
      ]
     },
     "execution_count": 3,
     "metadata": {},
     "output_type": "execute_result"
    }
   ],
   "source": [
    "36*96"
   ]
  },
  {
   "cell_type": "markdown",
   "id": "cdf4d0d0",
   "metadata": {},
   "source": [
    "# heading"
   ]
  },
  {
   "cell_type": "code",
   "execution_count": 4,
   "id": "0ada9e4c",
   "metadata": {},
   "outputs": [
    {
     "data": {
      "text/plain": [
       "'C:\\\\Users\\\\MSI'"
      ]
     },
     "execution_count": 4,
     "metadata": {},
     "output_type": "execute_result"
    }
   ],
   "source": [
    "pwd"
   ]
  },
  {
   "cell_type": "raw",
   "id": "39944390",
   "metadata": {},
   "source": [
    "This a simple text"
   ]
  },
  {
   "cell_type": "code",
   "execution_count": 5,
   "id": "06276b3d",
   "metadata": {},
   "outputs": [
    {
     "data": {
      "text/plain": [
       "3"
      ]
     },
     "execution_count": 5,
     "metadata": {},
     "output_type": "execute_result"
    }
   ],
   "source": [
    "\"This is a code\"\n",
    "1+1+1"
   ]
  },
  {
   "cell_type": "code",
   "execution_count": 6,
   "id": "942f864b",
   "metadata": {},
   "outputs": [
    {
     "data": {
      "text/plain": [
       "'this is a code'"
      ]
     },
     "execution_count": 6,
     "metadata": {},
     "output_type": "execute_result"
    }
   ],
   "source": [
    "\"this is a code\""
   ]
  },
  {
   "cell_type": "markdown",
   "id": "518a5978",
   "metadata": {},
   "source": [
    "What is markdown"
   ]
  },
  {
   "cell_type": "markdown",
   "id": "7c570b28",
   "metadata": {},
   "source": [
    "<b> Ok, its like HTML</b>"
   ]
  },
  {
   "cell_type": "markdown",
   "id": "dc725e55",
   "metadata": {},
   "source": [
    "<a href=\"https://www.google.com\">Link to Google</a>"
   ]
  },
  {
   "cell_type": "markdown",
   "id": "3e5823bf",
   "metadata": {},
   "source": [
    "<a href=\"https://www.datacamp.com/community/tutorials/markdown-in-jupyter-notebook\"> Use this to brush up HTML </a>"
   ]
  },
  {
   "cell_type": "code",
   "execution_count": null,
   "id": "53027fda",
   "metadata": {},
   "outputs": [],
   "source": []
  }
 ],
 "metadata": {
  "kernelspec": {
   "display_name": "Python 3 (ipykernel)",
   "language": "python",
   "name": "python3"
  },
  "language_info": {
   "codemirror_mode": {
    "name": "ipython",
    "version": 3
   },
   "file_extension": ".py",
   "mimetype": "text/x-python",
   "name": "python",
   "nbconvert_exporter": "python",
   "pygments_lexer": "ipython3",
   "version": "3.9.7"
  }
 },
 "nbformat": 4,
 "nbformat_minor": 5
}
