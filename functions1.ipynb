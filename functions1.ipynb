{
 "cells": [
  {
   "cell_type": "code",
   "execution_count": 3,
   "id": "d09f4b99",
   "metadata": {},
   "outputs": [],
   "source": [
    "def test():\n",
    "    pass"
   ]
  },
  {
   "cell_type": "code",
   "execution_count": 5,
   "id": "93880a05",
   "metadata": {},
   "outputs": [],
   "source": [
    "def test1():\n",
    "    print(\"My first function\")"
   ]
  },
  {
   "cell_type": "code",
   "execution_count": 6,
   "id": "22ed7a98",
   "metadata": {},
   "outputs": [
    {
     "name": "stdout",
     "output_type": "stream",
     "text": [
      "My first function\n"
     ]
    }
   ],
   "source": [
    "test1()"
   ]
  },
  {
   "cell_type": "code",
   "execution_count": 8,
   "id": "a218d0ff",
   "metadata": {},
   "outputs": [
    {
     "name": "stdout",
     "output_type": "stream",
     "text": [
      "My first function\n"
     ]
    }
   ],
   "source": [
    "test1()"
   ]
  },
  {
   "cell_type": "code",
   "execution_count": 9,
   "id": "5c0c70ba",
   "metadata": {},
   "outputs": [
    {
     "name": "stdout",
     "output_type": "stream",
     "text": [
      "My first function\n"
     ]
    }
   ],
   "source": [
    "a = test1()"
   ]
  },
  {
   "cell_type": "code",
   "execution_count": 10,
   "id": "932ba0ee",
   "metadata": {},
   "outputs": [],
   "source": [
    "a"
   ]
  },
  {
   "cell_type": "code",
   "execution_count": 11,
   "id": "8b52e49c",
   "metadata": {},
   "outputs": [
    {
     "ename": "TypeError",
     "evalue": "unsupported operand type(s) for +: 'NoneType' and 'str'",
     "output_type": "error",
     "traceback": [
      "\u001b[1;31m---------------------------------------------------------------------------\u001b[0m",
      "\u001b[1;31mTypeError\u001b[0m                                 Traceback (most recent call last)",
      "\u001b[1;32m~\\AppData\\Local\\Temp/ipykernel_15424/183045805.py\u001b[0m in \u001b[0;36m<module>\u001b[1;34m\u001b[0m\n\u001b[1;32m----> 1\u001b[1;33m \u001b[0ma\u001b[0m\u001b[1;33m+\u001b[0m\u001b[1;34m\"sudh\"\u001b[0m\u001b[1;33m\u001b[0m\u001b[1;33m\u001b[0m\u001b[0m\n\u001b[0m",
      "\u001b[1;31mTypeError\u001b[0m: unsupported operand type(s) for +: 'NoneType' and 'str'"
     ]
    }
   ],
   "source": [
    "a+\"sudh\""
   ]
  },
  {
   "cell_type": "code",
   "execution_count": 12,
   "id": "0ef5b91b",
   "metadata": {},
   "outputs": [
    {
     "data": {
      "text/plain": [
       "NoneType"
      ]
     },
     "execution_count": 12,
     "metadata": {},
     "output_type": "execute_result"
    }
   ],
   "source": [
    "type(a)"
   ]
  },
  {
   "cell_type": "code",
   "execution_count": 15,
   "id": "620d91c2",
   "metadata": {},
   "outputs": [
    {
     "name": "stdout",
     "output_type": "stream",
     "text": [
      "My first function\n",
      "My first function\n",
      "My first function\n"
     ]
    }
   ],
   "source": [
    "test1() \n",
    "test1() \n",
    "test1()"
   ]
  },
  {
   "cell_type": "raw",
   "id": "b5f53c0b",
   "metadata": {},
   "source": [
    "str(a)"
   ]
  },
  {
   "cell_type": "code",
   "execution_count": 16,
   "id": "f8837349",
   "metadata": {},
   "outputs": [
    {
     "data": {
      "text/plain": [
       "'None'"
      ]
     },
     "execution_count": 16,
     "metadata": {},
     "output_type": "execute_result"
    }
   ],
   "source": [
    "str(a)"
   ]
  },
  {
   "cell_type": "code",
   "execution_count": 23,
   "id": "15fdea82",
   "metadata": {},
   "outputs": [],
   "source": [
    "def test2():\n",
    "    return \"is boring\""
   ]
  },
  {
   "cell_type": "code",
   "execution_count": 18,
   "id": "e6c70670",
   "metadata": {},
   "outputs": [
    {
     "data": {
      "text/plain": [
       "str"
      ]
     },
     "execution_count": 18,
     "metadata": {},
     "output_type": "execute_result"
    }
   ],
   "source": [
    "type(test2())"
   ]
  },
  {
   "cell_type": "code",
   "execution_count": 24,
   "id": "f1fa586c",
   "metadata": {},
   "outputs": [
    {
     "data": {
      "text/plain": [
       "'Love is boring'"
      ]
     },
     "execution_count": 24,
     "metadata": {},
     "output_type": "execute_result"
    }
   ],
   "source": [
    "\"Love \"+test2()"
   ]
  },
  {
   "cell_type": "code",
   "execution_count": 21,
   "id": "f8250b50",
   "metadata": {},
   "outputs": [],
   "source": [
    "def test3():\n",
    "    return 123"
   ]
  },
  {
   "cell_type": "code",
   "execution_count": 22,
   "id": "4e478713",
   "metadata": {},
   "outputs": [
    {
     "data": {
      "text/plain": [
       "145"
      ]
     },
     "execution_count": 22,
     "metadata": {},
     "output_type": "execute_result"
    }
   ],
   "source": [
    "test3()+22"
   ]
  },
  {
   "cell_type": "code",
   "execution_count": 25,
   "id": "217c6124",
   "metadata": {},
   "outputs": [],
   "source": [
    "def test4():\n",
    "    return 3,4,\"abc\",[1,2]"
   ]
  },
  {
   "cell_type": "code",
   "execution_count": 26,
   "id": "f2625966",
   "metadata": {},
   "outputs": [
    {
     "data": {
      "text/plain": [
       "(3, 4, 'abc', [1, 2])"
      ]
     },
     "execution_count": 26,
     "metadata": {},
     "output_type": "execute_result"
    }
   ],
   "source": [
    "test4()"
   ]
  },
  {
   "cell_type": "code",
   "execution_count": 27,
   "id": "01ab1433",
   "metadata": {},
   "outputs": [
    {
     "data": {
      "text/plain": [
       "tuple"
      ]
     },
     "execution_count": 27,
     "metadata": {},
     "output_type": "execute_result"
    }
   ],
   "source": [
    "type(test4())"
   ]
  },
  {
   "cell_type": "code",
   "execution_count": 28,
   "id": "1fa5c5ad",
   "metadata": {},
   "outputs": [
    {
     "ename": "TypeError",
     "evalue": "'function' object is not subscriptable",
     "output_type": "error",
     "traceback": [
      "\u001b[1;31m---------------------------------------------------------------------------\u001b[0m",
      "\u001b[1;31mTypeError\u001b[0m                                 Traceback (most recent call last)",
      "\u001b[1;32m~\\AppData\\Local\\Temp/ipykernel_15424/317113817.py\u001b[0m in \u001b[0;36m<module>\u001b[1;34m\u001b[0m\n\u001b[1;32m----> 1\u001b[1;33m \u001b[0mtest4\u001b[0m\u001b[1;33m[\u001b[0m\u001b[1;36m3\u001b[0m\u001b[1;33m]\u001b[0m\u001b[1;33m[\u001b[0m\u001b[1;36m0\u001b[0m\u001b[1;33m]\u001b[0m\u001b[1;33m\u001b[0m\u001b[1;33m\u001b[0m\u001b[0m\n\u001b[0m",
      "\u001b[1;31mTypeError\u001b[0m: 'function' object is not subscriptable"
     ]
    }
   ],
   "source": [
    "test4[3][0]"
   ]
  },
  {
   "cell_type": "code",
   "execution_count": 29,
   "id": "0224d543",
   "metadata": {},
   "outputs": [],
   "source": [
    "a=test4()"
   ]
  },
  {
   "cell_type": "code",
   "execution_count": 30,
   "id": "47eb36d6",
   "metadata": {},
   "outputs": [
    {
     "data": {
      "text/plain": [
       "2"
      ]
     },
     "execution_count": 30,
     "metadata": {},
     "output_type": "execute_result"
    }
   ],
   "source": [
    "a[3][1]"
   ]
  },
  {
   "cell_type": "code",
   "execution_count": 31,
   "id": "7beaa0f9",
   "metadata": {},
   "outputs": [],
   "source": [
    "b =1\n",
    "c=4\n",
    "d=\"sss\""
   ]
  },
  {
   "cell_type": "code",
   "execution_count": 32,
   "id": "1bf62602",
   "metadata": {},
   "outputs": [],
   "source": [
    "a,b,c,d=1,2,\"c\",test4()"
   ]
  },
  {
   "cell_type": "code",
   "execution_count": 37,
   "id": "e2b2807c",
   "metadata": {},
   "outputs": [],
   "source": [
    "x,y,u,v=d"
   ]
  },
  {
   "cell_type": "code",
   "execution_count": 39,
   "id": "ee08d65b",
   "metadata": {},
   "outputs": [
    {
     "data": {
      "text/plain": [
       "2"
      ]
     },
     "execution_count": 39,
     "metadata": {},
     "output_type": "execute_result"
    }
   ],
   "source": [
    "v[1]"
   ]
  },
  {
   "cell_type": "code",
   "execution_count": 40,
   "id": "f82d5e97",
   "metadata": {},
   "outputs": [],
   "source": [
    "def test5():\n",
    "    a=6*7/2\n",
    "    return a"
   ]
  },
  {
   "cell_type": "code",
   "execution_count": 41,
   "id": "2d286dbe",
   "metadata": {},
   "outputs": [],
   "source": [
    "b=test5()"
   ]
  },
  {
   "cell_type": "code",
   "execution_count": 42,
   "id": "a1272f89",
   "metadata": {},
   "outputs": [
    {
     "data": {
      "text/plain": [
       "21.0"
      ]
     },
     "execution_count": 42,
     "metadata": {},
     "output_type": "execute_result"
    }
   ],
   "source": [
    "b"
   ]
  },
  {
   "cell_type": "code",
   "execution_count": 43,
   "id": "a2869e7b",
   "metadata": {},
   "outputs": [],
   "source": [
    "l = [3,5,6,3,3,\"sudh\",[1,2]]\n",
    "\n",
    "    "
   ]
  },
  {
   "cell_type": "code",
   "execution_count": 48,
   "id": "8556896d",
   "metadata": {},
   "outputs": [],
   "source": [
    "def test6(a):\n",
    "    if type(a)==list:\n",
    "        b=[]\n",
    "        for i in a:\n",
    "            if type(i)==int:\n",
    "                b.append(i)\n",
    "                \n",
    "    return b\n",
    "        "
   ]
  },
  {
   "cell_type": "code",
   "execution_count": 49,
   "id": "8f7d4cb5",
   "metadata": {},
   "outputs": [],
   "source": [
    "l1=test6(l)"
   ]
  },
  {
   "cell_type": "code",
   "execution_count": 50,
   "id": "d356e528",
   "metadata": {},
   "outputs": [
    {
     "data": {
      "text/plain": [
       "[3, 5, 6, 3, 3]"
      ]
     },
     "execution_count": 50,
     "metadata": {},
     "output_type": "execute_result"
    }
   ],
   "source": [
    "l1"
   ]
  },
  {
   "cell_type": "code",
   "execution_count": 52,
   "id": "03b32aaa",
   "metadata": {},
   "outputs": [
    {
     "data": {
      "text/plain": [
       "[1, 2]"
      ]
     },
     "execution_count": 52,
     "metadata": {},
     "output_type": "execute_result"
    }
   ],
   "source": [
    "test6([[2,4,7],1,2,\"jkhkjgjkg\"])"
   ]
  },
  {
   "cell_type": "code",
   "execution_count": 53,
   "id": "bea11fa0",
   "metadata": {},
   "outputs": [],
   "source": [
    "s ={1,2,3,4}\n"
   ]
  },
  {
   "cell_type": "code",
   "execution_count": 54,
   "id": "7aa04379",
   "metadata": {},
   "outputs": [],
   "source": [
    "l=list(s)"
   ]
  },
  {
   "cell_type": "code",
   "execution_count": 55,
   "id": "a112089c",
   "metadata": {},
   "outputs": [
    {
     "data": {
      "text/plain": [
       "[1, 2, 3, 4]"
      ]
     },
     "execution_count": 55,
     "metadata": {},
     "output_type": "execute_result"
    }
   ],
   "source": [
    "l"
   ]
  },
  {
   "cell_type": "code",
   "execution_count": 61,
   "id": "296a0b8f",
   "metadata": {},
   "outputs": [],
   "source": [
    "def test7(c):\n",
    "    if type(c)==dict:\n",
    "        return c.keys()\n",
    "    else:\n",
    "        return \"no dict\""
   ]
  },
  {
   "cell_type": "code",
   "execution_count": 62,
   "id": "763a67cb",
   "metadata": {},
   "outputs": [
    {
     "data": {
      "text/plain": [
       "'no dict'"
      ]
     },
     "execution_count": 62,
     "metadata": {},
     "output_type": "execute_result"
    }
   ],
   "source": [
    "test7(\"ssss\")"
   ]
  },
  {
   "cell_type": "code",
   "execution_count": 63,
   "id": "a6c853e6",
   "metadata": {},
   "outputs": [],
   "source": [
    "d={\"a\":1,\"b\":2}"
   ]
  },
  {
   "cell_type": "code",
   "execution_count": 64,
   "id": "a41df059",
   "metadata": {},
   "outputs": [
    {
     "data": {
      "text/plain": [
       "dict_keys(['a', 'b'])"
      ]
     },
     "execution_count": 64,
     "metadata": {},
     "output_type": "execute_result"
    }
   ],
   "source": [
    "test7(d)"
   ]
  },
  {
   "cell_type": "code",
   "execution_count": 65,
   "id": "7b653686",
   "metadata": {},
   "outputs": [
    {
     "data": {
      "text/plain": [
       "dict_keys(['a', 'b'])"
      ]
     },
     "execution_count": 65,
     "metadata": {},
     "output_type": "execute_result"
    }
   ],
   "source": [
    "test7({\"a\":1,\"b\":2})"
   ]
  },
  {
   "cell_type": "code",
   "execution_count": 78,
   "id": "35b73658",
   "metadata": {},
   "outputs": [],
   "source": [
    "def test8(a,b):\n",
    "    if type(a)==list and type(b)==list:\n",
    "        c=[]\n",
    "        c=a+b\n",
    "        return c\n",
    "    else:\n",
    "        return \"nope\""
   ]
  },
  {
   "cell_type": "code",
   "execution_count": 80,
   "id": "c05a3c9b",
   "metadata": {},
   "outputs": [
    {
     "data": {
      "text/plain": [
       "[1, 2, 3]"
      ]
     },
     "execution_count": 80,
     "metadata": {},
     "output_type": "execute_result"
    }
   ],
   "source": [
    "test8([1,2],[3])"
   ]
  },
  {
   "cell_type": "code",
   "execution_count": 82,
   "id": "e4cbf975",
   "metadata": {},
   "outputs": [],
   "source": [
    "c=test8([1,2],[3])"
   ]
  },
  {
   "cell_type": "code",
   "execution_count": 83,
   "id": "df690f15",
   "metadata": {},
   "outputs": [
    {
     "data": {
      "text/plain": [
       "[1, 2, 3]"
      ]
     },
     "execution_count": 83,
     "metadata": {},
     "output_type": "execute_result"
    }
   ],
   "source": [
    "c"
   ]
  },
  {
   "cell_type": "code",
   "execution_count": 90,
   "id": "996987fc",
   "metadata": {},
   "outputs": [],
   "source": [
    "def test9(a):\n",
    "    i=0\n",
    "    while i<a:\n",
    "        while j:\n",
    "             print (\"*\")\n",
    "        i+=1"
   ]
  },
  {
   "cell_type": "code",
   "execution_count": 89,
   "id": "274b1e22",
   "metadata": {},
   "outputs": [
    {
     "name": "stdout",
     "output_type": "stream",
     "text": [
      "*\n",
      "*\n",
      "*\n",
      "*\n",
      "*\n",
      "*\n",
      "*\n",
      "*\n",
      "*\n"
     ]
    }
   ],
   "source": [
    "test9(9)"
   ]
  },
  {
   "cell_type": "code",
   "execution_count": 91,
   "id": "d7a64cbe",
   "metadata": {},
   "outputs": [],
   "source": [
    "def test9(a):\n",
    "    n=a-1\n",
    "    for i in range(0,a):\n",
    "        for j in range(0,a-1):\n",
    "            print(end=\" \")\n",
    "        for j in range(0,i+1):\n",
    "            print(\"* \", end=\"\")\n",
    "        print(\"\\n\")\n",
    "        \n",
    "        "
   ]
  },
  {
   "cell_type": "code",
   "execution_count": 92,
   "id": "d5b0b46e",
   "metadata": {},
   "outputs": [
    {
     "name": "stdout",
     "output_type": "stream",
     "text": [
      "   * \n",
      "\n",
      "   * * \n",
      "\n",
      "   * * * \n",
      "\n",
      "   * * * * \n",
      "\n"
     ]
    }
   ],
   "source": [
    "test9(4)"
   ]
  },
  {
   "cell_type": "code",
   "execution_count": 96,
   "id": "26f4ca89",
   "metadata": {},
   "outputs": [],
   "source": [
    "def triangle(rows):\n",
    "    if type(rows)==int:\n",
    "        for i in range(1,rows):\n",
    "            for j in range(0,i):\n",
    "                print(\"o\",end=\"\")\n",
    "            print(\"\\n\")"
   ]
  },
  {
   "cell_type": "code",
   "execution_count": 97,
   "id": "5e3df665",
   "metadata": {},
   "outputs": [
    {
     "name": "stdout",
     "output_type": "stream",
     "text": [
      "o\n",
      "\n",
      "oo\n",
      "\n",
      "ooo\n",
      "\n",
      "oooo\n",
      "\n"
     ]
    }
   ],
   "source": [
    "triangle(5)"
   ]
  },
  {
   "cell_type": "code",
   "execution_count": 106,
   "id": "407ada58",
   "metadata": {},
   "outputs": [],
   "source": [
    "def triangle1(rows):\n",
    "    \"\"\"\"function defined by me\"\"\"\n",
    "    if type(rows)==int:\n",
    "        for i in range(0,rows):\n",
    "            for j in range(0,i+1):\n",
    "                print(\"o\",end=\"\")\n",
    "            print(\"\\n\")"
   ]
  },
  {
   "cell_type": "code",
   "execution_count": 105,
   "id": "87140c34",
   "metadata": {},
   "outputs": [
    {
     "name": "stdout",
     "output_type": "stream",
     "text": [
      "o\n",
      "\n",
      "oo\n",
      "\n",
      "ooo\n",
      "\n",
      "oooo\n",
      "\n",
      "ooooo\n",
      "\n",
      "oooooo\n",
      "\n",
      "ooooooo\n",
      "\n",
      "oooooooo\n",
      "\n",
      "ooooooooo\n",
      "\n",
      "oooooooooo\n",
      "\n"
     ]
    }
   ],
   "source": [
    "triangle1(10)"
   ]
  },
  {
   "cell_type": "code",
   "execution_count": 108,
   "id": "74b73864",
   "metadata": {},
   "outputs": [
    {
     "ename": "SyntaxError",
     "evalue": "invalid syntax (Temp/ipykernel_15424/278449777.py, line 1)",
     "output_type": "error",
     "traceback": [
      "\u001b[1;36m  File \u001b[1;32m\"C:\\Users\\MSI\\AppData\\Local\\Temp/ipykernel_15424/278449777.py\"\u001b[1;36m, line \u001b[1;32m1\u001b[0m\n\u001b[1;33m    docstring \"\"\"   \"\"\"\u001b[0m\n\u001b[1;37m              ^\u001b[0m\n\u001b[1;31mSyntaxError\u001b[0m\u001b[1;31m:\u001b[0m invalid syntax\n"
     ]
    }
   ],
   "source": [
    "docstring \"\"\"   \"\"\""
   ]
  },
  {
   "cell_type": "code",
   "execution_count": 109,
   "id": "d204f6fd",
   "metadata": {},
   "outputs": [
    {
     "name": "stdout",
     "output_type": "stream",
     "text": [
      "Help on function triangle1 in module __main__:\n",
      "\n",
      "triangle1(rows)\n",
      "    \"function defined by me\n",
      "\n"
     ]
    }
   ],
   "source": [
    "help(triangle1)"
   ]
  },
  {
   "cell_type": "code",
   "execution_count": 110,
   "id": "b1ecd874",
   "metadata": {},
   "outputs": [],
   "source": [
    "#single line comment"
   ]
  },
  {
   "cell_type": "code",
   "execution_count": 111,
   "id": "7692d334",
   "metadata": {},
   "outputs": [
    {
     "data": {
      "text/plain": [
       "'\\nmulti\\nline\\ncomment'"
      ]
     },
     "execution_count": 111,
     "metadata": {},
     "output_type": "execute_result"
    }
   ],
   "source": [
    "\"\"\"\n",
    "multi\n",
    "line\n",
    "comment\"\"\""
   ]
  },
  {
   "cell_type": "code",
   "execution_count": 116,
   "id": "53ee56b2",
   "metadata": {},
   "outputs": [],
   "source": [
    "def straighttriangle(a):\n",
    "    b=a+1\n",
    "    for i in range(1,a+1):\n",
    "        for j in range(1,b):\n",
    "            print(\" \",end=\"\")\n",
    "        b=b-1\n",
    "        print(i)\n",
    "    "
   ]
  },
  {
   "cell_type": "code",
   "execution_count": 117,
   "id": "6011f4fd",
   "metadata": {},
   "outputs": [
    {
     "name": "stdout",
     "output_type": "stream",
     "text": [
      "     1\n",
      "    2\n",
      "   3\n",
      "  4\n",
      " 5\n"
     ]
    }
   ],
   "source": [
    "straighttriangle(5)"
   ]
  },
  {
   "cell_type": "code",
   "execution_count": 120,
   "id": "4630f9ff",
   "metadata": {},
   "outputs": [],
   "source": [
    "def test11(a):\n",
    "    \"\"\"\n",
    "    This Function returns the length of the string passed\n",
    "    \"\"\"\n",
    "    if type(a)==str:\n",
    "        len=0\n",
    "        for i in a:\n",
    "            len+=1\n",
    "        return len"
   ]
  },
  {
   "cell_type": "code",
   "execution_count": 121,
   "id": "11e1b998",
   "metadata": {},
   "outputs": [
    {
     "data": {
      "text/plain": [
       "4"
      ]
     },
     "execution_count": 121,
     "metadata": {},
     "output_type": "execute_result"
    }
   ],
   "source": [
    "test11(\"abcd\")"
   ]
  },
  {
   "cell_type": "code",
   "execution_count": 150,
   "id": "f1f61e2a",
   "metadata": {},
   "outputs": [],
   "source": [
    "def test12(a):\n",
    "    \"\"\"This function prints index of primitive element passed\"\"\"\n",
    "    len=0\n",
    "    if type(a)==list or type(a)==tuple or type(a)==str:\n",
    "        for i in a:\n",
    "            print(\"Index of \",i,\" is \",len)\n",
    "            len+=1\n",
    "\n",
    "        "
   ]
  },
  {
   "cell_type": "code",
   "execution_count": 153,
   "id": "064e5818",
   "metadata": {},
   "outputs": [
    {
     "name": "stdout",
     "output_type": "stream",
     "text": [
      "Index of  a  is  0\n",
      "Index of  b  is  1\n",
      "Index of  c  is  2\n",
      "Index of  a  is  3\n",
      "Index of  s  is  4\n",
      "Index of  w  is  5\n",
      "Index of  j  is  6\n",
      "Index of  p  is  7\n",
      "Index of  p  is  8\n",
      "Index of  a  is  9\n",
      "Index of  D  is  10\n"
     ]
    }
   ],
   "source": [
    "test12(\"abcaswjppaD\")"
   ]
  },
  {
   "cell_type": "code",
   "execution_count": 154,
   "id": "cd117151",
   "metadata": {},
   "outputs": [
    {
     "name": "stdout",
     "output_type": "stream",
     "text": [
      "Index of  1  is  0\n",
      "Index of  2  is  1\n",
      "Index of  34  is  2\n"
     ]
    }
   ],
   "source": [
    "test12([1,2,34])"
   ]
  },
  {
   "cell_type": "code",
   "execution_count": 155,
   "id": "f1511804",
   "metadata": {},
   "outputs": [
    {
     "name": "stdout",
     "output_type": "stream",
     "text": [
      "Index of  a  is  0\n",
      "Index of  aaaakd  is  1\n",
      "Index of  12  is  2\n",
      "Index of  3444  is  3\n",
      "Index of  11  is  4\n"
     ]
    }
   ],
   "source": [
    "test12((\"a\",\"aaaakd\",12,3444,11))"
   ]
  },
  {
   "cell_type": "code",
   "execution_count": 216,
   "id": "6c5b3040",
   "metadata": {},
   "outputs": [],
   "source": [
    "def test13(a):\n",
    "    \"\"\"This function takes a dictorary as an input and return a list of all the values even in case of level 2 nesting\"\"\"\n",
    "    if type(a)==dict:\n",
    "        l=list(a.values())\n",
    "        for i in l:\n",
    "            if type(i)==dict:\n",
    "                l1=list(i.values())\n",
    "                l.pop()\n",
    "                l.extend(l1)\n",
    "        \n",
    "    return l\n",
    "       "
   ]
  },
  {
   "cell_type": "code",
   "execution_count": 220,
   "id": "60203f9f",
   "metadata": {},
   "outputs": [
    {
     "data": {
      "text/plain": [
       "[1, 2, 4, 5]"
      ]
     },
     "execution_count": 220,
     "metadata": {},
     "output_type": "execute_result"
    }
   ],
   "source": [
    "test13({\"a\":1,\"b\":2,\"c\":{\"x\":4,\"y\":5}})"
   ]
  },
  {
   "cell_type": "code",
   "execution_count": 221,
   "id": "a65ec5e6",
   "metadata": {},
   "outputs": [],
   "source": [
    "def pas():\n",
    "    return \"I passed\"\n",
    "\n",
    "def receive(a):\n",
    "    \"\"\"This function recives a funtion as input\"\"\"\n",
    "    return (\"I can recive what\", a)"
   ]
  },
  {
   "cell_type": "code",
   "execution_count": 222,
   "id": "f3bde4bd",
   "metadata": {},
   "outputs": [
    {
     "data": {
      "text/plain": [
       "('I can recive what', 'I passed')"
      ]
     },
     "execution_count": 222,
     "metadata": {},
     "output_type": "execute_result"
    }
   ],
   "source": [
    "receive(pas())"
   ]
  },
  {
   "cell_type": "code",
   "execution_count": 233,
   "id": "9a16167c",
   "metadata": {},
   "outputs": [],
   "source": [
    "def concatenation(a,b,c):\n",
    "    \"\"\"This function takes multiple lists and join them\"\"\"\n",
    "    if type(a)==list and type(b)==list or type(c)==list:\n",
    "        d=[]\n",
    "        d=a+b+c\n",
    "    else:\n",
    "        \"bruhh\"\n",
    "        \n",
    "    return d"
   ]
  },
  {
   "cell_type": "code",
   "execution_count": 235,
   "id": "9476846c",
   "metadata": {},
   "outputs": [
    {
     "data": {
      "text/plain": [
       "[1, 2, 3, 4, 3, 2, 1, 2]"
      ]
     },
     "execution_count": 235,
     "metadata": {},
     "output_type": "execute_result"
    }
   ],
   "source": [
    "concatenation([1,2,3],[4,3,2],[1,2])"
   ]
  },
  {
   "cell_type": "code",
   "execution_count": null,
   "id": "66c5be04",
   "metadata": {},
   "outputs": [],
   "source": [
    "def ind(a):\n",
    "    \"\"\"function returns index\"\"\"\n",
    "    "
   ]
  }
 ],
 "metadata": {
  "kernelspec": {
   "display_name": "Python 3 (ipykernel)",
   "language": "python",
   "name": "python3"
  },
  "language_info": {
   "codemirror_mode": {
    "name": "ipython",
    "version": 3
   },
   "file_extension": ".py",
   "mimetype": "text/x-python",
   "name": "python",
   "nbconvert_exporter": "python",
   "pygments_lexer": "ipython3",
   "version": "3.9.7"
  }
 },
 "nbformat": 4,
 "nbformat_minor": 5
}
