{
 "cells": [
  {
   "cell_type": "code",
   "execution_count": 1,
   "id": "945f57fe",
   "metadata": {},
   "outputs": [],
   "source": [
    "l=[\"name\",\"email_id\",\"phone_no\",\"address\"]\n"
   ]
  },
  {
   "cell_type": "code",
   "execution_count": 4,
   "id": "768de613",
   "metadata": {},
   "outputs": [
    {
     "name": "stdout",
     "output_type": "stream",
     "text": [
      "name\n",
      "email_id\n",
      "phone_no\n",
      "address\n",
      "if for loop is going to complete then it will come to else\n"
     ]
    }
   ],
   "source": [
    "for i in l:\n",
    "    print(i)\n",
    "else:\n",
    "    print(\"if for loop is going to complete then it will come to else\")"
   ]
  },
  {
   "cell_type": "markdown",
   "id": "13956e77",
   "metadata": {},
   "source": [
    "else statement will be executed after the whole for loop is completed"
   ]
  },
  {
   "cell_type": "code",
   "execution_count": 6,
   "id": "e6a41d45",
   "metadata": {},
   "outputs": [
    {
     "name": "stdout",
     "output_type": "stream",
     "text": [
      "name\n",
      "email_id\n"
     ]
    }
   ],
   "source": [
    "for i in l:\n",
    "    if i ==\"phone_no\":\n",
    "        break\n",
    "    print(i)\n",
    "else:\n",
    "    print(\"if for loop is going to complete then it will come to else\")"
   ]
  },
  {
   "cell_type": "markdown",
   "id": "d3bccbc9",
   "metadata": {},
   "source": [
    "Else is not executed because whole for loop is not exhausted"
   ]
  },
  {
   "cell_type": "code",
   "execution_count": 9,
   "id": "6d096828",
   "metadata": {},
   "outputs": [
    {
     "name": "stdout",
     "output_type": "stream",
     "text": [
      "g\n",
      "a\n"
     ]
    }
   ],
   "source": [
    "a=\"gayyyyy\"\n",
    "for i in a:\n",
    "    print(i)\n",
    "    if i==\"a\":\n",
    "        break\n",
    "else:\n",
    "    print(\"Print only if its gayyy\")"
   ]
  },
  {
   "cell_type": "code",
   "execution_count": 10,
   "id": "d78a27bc",
   "metadata": {},
   "outputs": [
    {
     "name": "stdout",
     "output_type": "stream",
     "text": [
      "1\n",
      "2\n",
      "3\n",
      "4\n",
      "5\n",
      "6\n",
      "7\n",
      "8\n",
      "9\n"
     ]
    }
   ],
   "source": [
    "a=1\n",
    "while a<10:\n",
    "    print(a)\n",
    "    a=a+1"
   ]
  },
  {
   "cell_type": "code",
   "execution_count": 11,
   "id": "f44a51c4",
   "metadata": {},
   "outputs": [
    {
     "name": "stdout",
     "output_type": "stream",
     "text": [
      "1\n",
      "2\n",
      "3\n"
     ]
    }
   ],
   "source": [
    "a=1\n",
    "while a<10:\n",
    "    if a ==4:\n",
    "        break\n",
    "    print(a)\n",
    "    a=a+1"
   ]
  },
  {
   "cell_type": "code",
   "execution_count": 14,
   "id": "80d2dda1",
   "metadata": {},
   "outputs": [
    {
     "name": "stdout",
     "output_type": "stream",
     "text": [
      "1\n",
      "2\n",
      "3\n",
      "4\n",
      "5\n",
      "6\n",
      "7\n",
      "8\n",
      "9\n"
     ]
    }
   ],
   "source": [
    "a=1\n",
    "while a<10:\n",
    "    print(a)\n",
    "    a=a+1\n",
    "    if a ==3:\n",
    "        continue"
   ]
  },
  {
   "cell_type": "code",
   "execution_count": 15,
   "id": "6fce40c1",
   "metadata": {},
   "outputs": [
    {
     "data": {
      "text/plain": [
       "range(0, 6)"
      ]
     },
     "execution_count": 15,
     "metadata": {},
     "output_type": "execute_result"
    }
   ],
   "source": [
    "range(6)"
   ]
  },
  {
   "cell_type": "code",
   "execution_count": 16,
   "id": "e1711005",
   "metadata": {},
   "outputs": [],
   "source": [
    "l=[]\n",
    "l.append(range(4))"
   ]
  },
  {
   "cell_type": "code",
   "execution_count": 17,
   "id": "4c1dfc62",
   "metadata": {},
   "outputs": [
    {
     "data": {
      "text/plain": [
       "[range(0, 4)]"
      ]
     },
     "execution_count": 17,
     "metadata": {},
     "output_type": "execute_result"
    }
   ],
   "source": [
    "l"
   ]
  },
  {
   "cell_type": "code",
   "execution_count": 18,
   "id": "15f13f4c",
   "metadata": {},
   "outputs": [],
   "source": [
    "l=list(range(6))"
   ]
  },
  {
   "cell_type": "code",
   "execution_count": 19,
   "id": "904c693b",
   "metadata": {},
   "outputs": [
    {
     "data": {
      "text/plain": [
       "[0, 1, 2, 3, 4, 5]"
      ]
     },
     "execution_count": 19,
     "metadata": {},
     "output_type": "execute_result"
    }
   ],
   "source": [
    "l"
   ]
  },
  {
   "cell_type": "code",
   "execution_count": 24,
   "id": "adf8bf1e",
   "metadata": {},
   "outputs": [
    {
     "data": {
      "text/plain": [
       "[-4, -6, -8, -10, -12, -14]"
      ]
     },
     "execution_count": 24,
     "metadata": {},
     "output_type": "execute_result"
    }
   ],
   "source": [
    "list(range(-4,-15,-2))"
   ]
  },
  {
   "cell_type": "code",
   "execution_count": 25,
   "id": "593be3e7",
   "metadata": {},
   "outputs": [
    {
     "data": {
      "text/plain": [
       "[10, 9, 8, 7]"
      ]
     },
     "execution_count": 25,
     "metadata": {},
     "output_type": "execute_result"
    }
   ],
   "source": [
    "list(range(10,6,-1))"
   ]
  },
  {
   "cell_type": "code",
   "execution_count": 29,
   "id": "5944ab8e",
   "metadata": {},
   "outputs": [
    {
     "name": "stdout",
     "output_type": "stream",
     "text": [
      "-2\n"
     ]
    }
   ],
   "source": [
    "for i in range(-2,-10,-9):\n",
    "    print(i)"
   ]
  },
  {
   "cell_type": "code",
   "execution_count": 30,
   "id": "8d9fec3a",
   "metadata": {},
   "outputs": [
    {
     "ename": "TypeError",
     "evalue": "'float' object cannot be interpreted as an integer",
     "output_type": "error",
     "traceback": [
      "\u001b[1;31m---------------------------------------------------------------------------\u001b[0m",
      "\u001b[1;31mTypeError\u001b[0m                                 Traceback (most recent call last)",
      "\u001b[1;32m~\\AppData\\Local\\Temp/ipykernel_1996/19442273.py\u001b[0m in \u001b[0;36m<module>\u001b[1;34m\u001b[0m\n\u001b[1;32m----> 1\u001b[1;33m \u001b[0mrange\u001b[0m\u001b[1;33m(\u001b[0m\u001b[1;36m1.00\u001b[0m\u001b[1;33m,\u001b[0m\u001b[1;36m5.00\u001b[0m\u001b[1;33m,\u001b[0m\u001b[1;36m0.50\u001b[0m\u001b[1;33m)\u001b[0m\u001b[1;33m\u001b[0m\u001b[1;33m\u001b[0m\u001b[0m\n\u001b[0m",
      "\u001b[1;31mTypeError\u001b[0m: 'float' object cannot be interpreted as an integer"
     ]
    }
   ],
   "source": [
    "range(1.00,5.00,0.50)"
   ]
  },
  {
   "cell_type": "code",
   "execution_count": 46,
   "id": "6755b863",
   "metadata": {},
   "outputs": [
    {
     "name": "stdout",
     "output_type": "stream",
     "text": [
      "* \r\n",
      "* * \r\n",
      "* * * \r\n",
      "* * * * \r\n",
      "* * * * * \r\n",
      "* * * * * * \r\n",
      "* * * * * * * \r\n",
      "* * * * * * * * \r\n",
      "* * * * * * * * * \r\n",
      "* * * * * * * * * * \r\n"
     ]
    }
   ],
   "source": [
    "n=10\n",
    "for i in range(0,n):\n",
    "    for j in range(0, i+1):\n",
    "        print(\"*\", end =\" \")\n",
    "    print(\"\\r\")"
   ]
  },
  {
   "cell_type": "code",
   "execution_count": 77,
   "id": "7df1915b",
   "metadata": {},
   "outputs": [
    {
     "name": "stdout",
     "output_type": "stream",
     "text": [
      "                       *\r\n",
      "                     *  *\r\n",
      "                   *  *  *\r\n",
      "                 *  *  *  *\r\n",
      "               *  *  *  *  *\r\n"
     ]
    }
   ],
   "source": [
    "n=5\n",
    "m=10\n",
    "for i in range(0,n):\n",
    "    print(\"  \"*m, end=\" \")\n",
    "    for j in range(0,i+1):\n",
    "        print(\" \",\"*\",end =\"\")\n",
    "    m=m-1\n",
    "    print(\"\\r\")"
   ]
  },
  {
   "cell_type": "code",
   "execution_count": 78,
   "id": "a5d95178",
   "metadata": {},
   "outputs": [
    {
     "name": "stdout",
     "output_type": "stream",
     "text": [
      "i\n",
      "n\n",
      "e\n",
      "u\n",
      "r\n",
      "o\n",
      "n\n"
     ]
    }
   ],
   "source": [
    "s = \"ineuron\"\n",
    "for i in s:\n",
    "    print(i)"
   ]
  },
  {
   "cell_type": "code",
   "execution_count": 88,
   "id": "76954c64",
   "metadata": {},
   "outputs": [
    {
     "name": "stdout",
     "output_type": "stream",
     "text": [
      "7 n\n",
      "6 o\n",
      "5 r\n",
      "4 u\n",
      "3 e\n",
      "2 n\n",
      "1 i\n",
      "0 n\n"
     ]
    }
   ],
   "source": [
    "for i in range(len(s),-1,-1):\n",
    "    print(i, s[i-1])"
   ]
  },
  {
   "cell_type": "code",
   "execution_count": 92,
   "id": "30e2fbcd",
   "metadata": {},
   "outputs": [],
   "source": [
    "d ={\"A\":\"apple\", \"B\":\"Ball\", \"C\":\"ddadad\"}"
   ]
  },
  {
   "cell_type": "code",
   "execution_count": 93,
   "id": "6f6f9db6",
   "metadata": {},
   "outputs": [
    {
     "name": "stdout",
     "output_type": "stream",
     "text": [
      "A\n",
      "B\n",
      "C\n"
     ]
    }
   ],
   "source": [
    "for i in d:\n",
    "    print(i)"
   ]
  },
  {
   "cell_type": "code",
   "execution_count": 94,
   "id": "c2ab4f8e",
   "metadata": {},
   "outputs": [
    {
     "name": "stdout",
     "output_type": "stream",
     "text": [
      "A apple\n",
      "B Ball\n",
      "C ddadad\n"
     ]
    }
   ],
   "source": [
    "for i in d:\n",
    "    print(i,d[i])"
   ]
  },
  {
   "cell_type": "code",
   "execution_count": 95,
   "id": "2598a766",
   "metadata": {},
   "outputs": [
    {
     "name": "stdout",
     "output_type": "stream",
     "text": [
      "('A', 'apple')\n",
      "('B', 'Ball')\n",
      "('C', 'ddadad')\n"
     ]
    }
   ],
   "source": [
    "for i in d.items():\n",
    "    print(i)"
   ]
  },
  {
   "cell_type": "code",
   "execution_count": 97,
   "id": "f275d9db",
   "metadata": {},
   "outputs": [],
   "source": [
    "s={1,3,4,5,2,44,2,9,33,2,2222,2,222221,234,4,3}"
   ]
  },
  {
   "cell_type": "code",
   "execution_count": 98,
   "id": "b264c4cf",
   "metadata": {},
   "outputs": [
    {
     "name": "stdout",
     "output_type": "stream",
     "text": [
      "1\n",
      "2\n",
      "3\n",
      "4\n",
      "5\n",
      "33\n",
      "9\n",
      "234\n",
      "44\n",
      "222221\n",
      "2222\n"
     ]
    }
   ],
   "source": [
    "for i in s:\n",
    "    print(i)"
   ]
  },
  {
   "cell_type": "code",
   "execution_count": null,
   "id": "e1184017",
   "metadata": {},
   "outputs": [],
   "source": []
  }
 ],
 "metadata": {
  "kernelspec": {
   "display_name": "Python 3 (ipykernel)",
   "language": "python",
   "name": "python3"
  },
  "language_info": {
   "codemirror_mode": {
    "name": "ipython",
    "version": 3
   },
   "file_extension": ".py",
   "mimetype": "text/x-python",
   "name": "python",
   "nbconvert_exporter": "python",
   "pygments_lexer": "ipython3",
   "version": "3.9.7"
  }
 },
 "nbformat": 4,
 "nbformat_minor": 5
}
