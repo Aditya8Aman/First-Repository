{
 "cells": [
  {
   "cell_type": "code",
   "execution_count": 1,
   "id": "ca7933de",
   "metadata": {},
   "outputs": [],
   "source": [
    "#Gui 5- Formatting and Event handling"
   ]
  },
  {
   "cell_type": "code",
   "execution_count": 2,
   "id": "d90667fd",
   "metadata": {},
   "outputs": [],
   "source": [
    "from tkinter import *\n",
    "root = Tk()\n",
    "root.title(\"Assignment\")\n",
    "root.config(bg=\"grey\")\n",
    "root.geometry(\"600x400\")\n",
    "height = Label(root, text =\"Height:\")\n",
    "heightEntry=Entry(root)\n",
    "height.pack(side=LEFT)\n",
    "heightEntry.pack(side=LEFT)\n",
    "root.mainloop()"
   ]
  },
  {
   "cell_type": "code",
   "execution_count": 3,
   "id": "e4dad448",
   "metadata": {},
   "outputs": [],
   "source": [
    "from tkinter import *\n",
    "root = Tk()\n",
    "root.title(\"Assignment\")\n",
    "root.config(bg=\"grey\")\n",
    "root.geometry(\"600x400\")\n",
    "height = Label(root, text =\"Height:\")\n",
    "heightEntry=Entry(root)\n",
    "height.pack(side=LEFT)\n",
    "heightEntry.pack(side=LEFT)\n",
    "root.mainloop()"
   ]
  },
  {
   "cell_type": "code",
   "execution_count": 5,
   "id": "f4659715",
   "metadata": {},
   "outputs": [],
   "source": [
    "import tkinter\n",
    "root = tkinter.Tk()\n",
    "root.geometry('200x200+100+200')\n",
    "l1=tkinter.Label(root, text=\"Label 1\", bg=\"red\", fg=\"white\")\n",
    "l2=tkinter.Label(root, text=\"Label 2\", bg=\"blue\", fg=\"white\")\n",
    "l3=tkinter.Label(root, text=\"Label 3\", bg=\"green\", fg=\"white\")\n",
    "l4=tkinter.Label(root, text=\"Label 4\", bg=\"yellow\", fg=\"white\")\n",
    "l1.grid(row=0,column=0)\n",
    "l2.grid(row=1,column=1)\n",
    "l3.grid(row=1,column=0)\n",
    "l4.grid(row=6,column=1)\n",
    "root.mainloop()"
   ]
  },
  {
   "cell_type": "code",
   "execution_count": 11,
   "id": "bc0fe70c",
   "metadata": {},
   "outputs": [],
   "source": [
    "from tkinter import *\n",
    "root= Tk()\n",
    "root.title(\"Grid\")\n",
    "root.config(bg=\"Black\")\n",
    "root.geometry(\"600x400+200+200\")\n",
    "l1 = Label(root, text=\"Hello\",bg=\"yellow\",font =\"Amelia\")\n",
    "l1.grid(row=0,column=0)\n",
    "l2=Label(root, text=\"A really long sentence, i wonder what will happen to it\",bg=\"yellow\",font =\"Amelia\")\n",
    "l2.grid(row=1,column=20)\n",
    "root.mainloop()\n"
   ]
  },
  {
   "cell_type": "code",
   "execution_count": 7,
   "id": "4a042b36",
   "metadata": {},
   "outputs": [],
   "source": [
    "import tkinter\n",
    "root = tkinter.Tk()\n",
    "root.geometry('200x200+100+200')\n",
    "l1=tkinter.Label(root, text=\"Name:\")\n",
    "l2=tkinter.Label(root, text=\"Password:\")\n",
    "e1=tkinter.Entry(root)\n",
    "e2=tkinter.Entry(root)\n",
    "b1=tkinter.Button(root,text=\"Login\")\n",
    "b2=tkinter.Button(root,text=\"Quit\")\n",
    "l1.grid(row=0,column=0)\n",
    "e1.grid(row=0,column=1)\n",
    "l2.grid(row=1,column=0)\n",
    "e2.grid(row=1,column=1)\n",
    "b1.grid(row=2,column=0)\n",
    "b2.grid(row=2,column=1)\n",
    "root.mainloop()"
   ]
  },
  {
   "cell_type": "code",
   "execution_count": 22,
   "id": "aa94776c",
   "metadata": {},
   "outputs": [],
   "source": [
    "from tkinter import *\n",
    "root =Tk()\n",
    "root.title(\"Add\")\n",
    "root.geometry(\"400x400\")\n",
    "#root.config(bg=\"grey\")\n",
    "l1=Label(root,text=\"Number Addition Program\",font=(\"amalia 15\"))\n",
    "l1.grid(row=0,column=0,sticky=W)\n",
    "l2=Label(root,text=\"First No.:\")\n",
    "l2.grid(row=1,column=0)\n",
    "e1=Entry(root)\n",
    "e1.grid(row=1,column=1)\n",
    "l3=Label(root,text=\"Second No.:\")\n",
    "l3.grid(row=2,column=0)\n",
    "e2=Entry(root)\n",
    "e2.grid(row=2,column=1)\n",
    "b1=Label(root,text=\"Add\",relief=RAISED)\n",
    "b1.grid(row=3,column=0)\n",
    "b2=Label(root,text=\"Clear\",relief=RAISED)\n",
    "b2.grid(row=3,column=1)\n",
    "b1=Label(root,text=\"Quit\",relief=RAISED)\n",
    "b1.grid(row=3,column=2)\n",
    "root.mainloop()\n"
   ]
  },
  {
   "cell_type": "code",
   "execution_count": 23,
   "id": "59878a39",
   "metadata": {},
   "outputs": [
    {
     "name": "stderr",
     "output_type": "stream",
     "text": [
      "Exception in Tkinter callback\n",
      "Traceback (most recent call last):\n",
      "  File \"C:\\Users\\MSI\\anaconda3\\lib\\tkinter\\__init__.py\", line 1892, in __call__\n",
      "    return self.func(*args)\n",
      "  File \"C:\\Users\\MSI\\AppData\\Local\\Temp/ipykernel_9804/600986542.py\", line 4, in <lambda>\n",
      "    color=Button(root, text=\"Button\",command=lambda: display_1box_all(root))\n",
      "NameError: name 'display_1box_all' is not defined\n",
      "Exception in Tkinter callback\n",
      "Traceback (most recent call last):\n",
      "  File \"C:\\Users\\MSI\\anaconda3\\lib\\tkinter\\__init__.py\", line 1892, in __call__\n",
      "    return self.func(*args)\n",
      "  File \"C:\\Users\\MSI\\AppData\\Local\\Temp/ipykernel_9804/600986542.py\", line 4, in <lambda>\n",
      "    color=Button(root, text=\"Button\",command=lambda: display_1box_all(root))\n",
      "NameError: name 'display_1box_all' is not defined\n"
     ]
    }
   ],
   "source": [
    "from tkinter import *\n",
    "root =Tk()\n",
    "\n",
    "color=Button(root, text=\"Button\",command=action)\n",
    "color.pack()\n",
    "root.mainloop()\n",
    "\n"
   ]
  },
  {
   "cell_type": "code",
   "execution_count": 3,
   "id": "94b1a610",
   "metadata": {},
   "outputs": [],
   "source": [
    "from tkinter import *\n",
    "root =Tk()\n",
    "root.geometry(\"600x600\")\n",
    "def action():\n",
    "    root.config(bg=\"yellow\")\n",
    "a=Button(root,text=\"Color\",command=action)\n",
    "a.pack() \n",
    "root.mainloop()"
   ]
  },
  {
   "cell_type": "code",
   "execution_count": 6,
   "id": "9be4fb6c",
   "metadata": {},
   "outputs": [],
   "source": [
    "from tkinter import *\n",
    "root =Tk()\n",
    "root.geometry(\"600x600\")\n",
    "# def action():\n",
    "#     root.config(bg=\"yellow\")\n",
    "a=Button(root,text=\"Color\",command=(root.config(bg=\"yellow\")))\n",
    "a.pack() \n",
    "root.mainloop()"
   ]
  },
  {
   "cell_type": "code",
   "execution_count": 14,
   "id": "ce95344d",
   "metadata": {},
   "outputs": [],
   "source": [
    "from tkinter import *\n",
    "root =Tk()\n",
    "root.geometry(\"600x600\")\n",
    "def actionyellow(e):\n",
    "    root.config(bg=\"yellow\")\n",
    "def actiongreen(e):\n",
    "    root.config(bg=\"green\")\n",
    "a=Button(root,text=\"Color\")\n",
    "a.bind(\"<Button-1>\",actionyellow)\n",
    "a.bind(\"<Button-3>\",actiongreen)\n",
    "a.pack() \n",
    "root.mainloop()"
   ]
  },
  {
   "cell_type": "code",
   "execution_count": 15,
   "id": "86cfb234",
   "metadata": {},
   "outputs": [],
   "source": [
    "from tkinter import *\n",
    "root =Tk()\n",
    "root.geometry(\"600x600\")\n",
    "# def actionyellow(e):\n",
    "#     root.config(bg=\"yellow\")\n",
    "# def actiongreen(e):\n",
    "#     root.config(bg=\"green\")\n",
    "a=Button(root,text=\"Color\")\n",
    "a.bind(\"<Button-1>\",lambda e:root.config(bg=\"red\"))\n",
    "a.bind(\"<Button-3>\",lambda e:root.config(bg=\"blue\"))\n",
    "a.pack() \n",
    "root.mainloop()"
   ]
  },
  {
   "cell_type": "code",
   "execution_count": 3,
   "id": "3f81a234",
   "metadata": {},
   "outputs": [],
   "source": [
    "from tkinter import *\n",
    "root =Tk()\n",
    "root.geometry(\"600x600\")\n",
    "root.bind(\"<Return>\",lambda e: root.config(bg=\"red\"))\n",
    "root.bind(\"<Escape>\",lambda e: root.config(bg=\"SystemButtonFace\"))\n",
    "# a.pack() \n",
    "root.mainloop()"
   ]
  },
  {
   "cell_type": "code",
   "execution_count": null,
   "id": "9c654077",
   "metadata": {},
   "outputs": [],
   "source": []
  }
 ],
 "metadata": {
  "kernelspec": {
   "display_name": "Python 3 (ipykernel)",
   "language": "python",
   "name": "python3"
  },
  "language_info": {
   "codemirror_mode": {
    "name": "ipython",
    "version": 3
   },
   "file_extension": ".py",
   "mimetype": "text/x-python",
   "name": "python",
   "nbconvert_exporter": "python",
   "pygments_lexer": "ipython3",
   "version": "3.9.7"
  }
 },
 "nbformat": 4,
 "nbformat_minor": 5
}
