{
 "cells": [
  {
   "cell_type": "markdown",
   "metadata": {},
   "source": [
    "**Question 1.** In the below elements which of them are values or an expression? eg:- values can be integer or string and expressions will be mathematical operators.\n",
    "- '*'\n",
    "- 'hello'\n",
    "- -87.8\n",
    "- '-' \n",
    "- / \n",
    "- '+'\n",
    "- 6 "
   ]
  },
  {
   "cell_type": "markdown",
   "metadata": {},
   "source": [
    "**Answer 1**:\n",
    "\n",
    "- '*' : Mathematical Operator\n",
    "- 'hello' : String\n",
    "- 87.8 : Float\n",
    "- '-' : Mathematical Operator\n",
    "- / : Mathematical Operator\n",
    "- '+' : Mathematical Operator\n",
    "- 6 : Integer\n",
    " \n",
    " "
   ]
  },
  {
   "cell_type": "markdown",
   "metadata": {},
   "source": [
    "**Question 2.** \n",
    "\n",
    "What is the difference between string and variable?"
   ]
  },
  {
   "cell_type": "markdown",
   "metadata": {},
   "source": [
    "**Answer 2:**\n",
    "String is a type of data which contains sequence of characters including english alphabets, numerics, special symbols like @,#,? etc\n",
    "While a Variable is the name given to a memory location which can be used be store a data.\n",
    "\n",
    "Futhermore, Strings are always written within single, double or triple quotes but Variables are written with out quotes.\n",
    "\n",
    "Example:\n",
    "sentence = \"This is our number 1. Sentence!!\"\n",
    "Here, sentence is variable while \"This is our number 1. Sentence!!\" is a string\n",
    " \n",
    " "
   ]
  },
  {
   "cell_type": "markdown",
   "metadata": {},
   "source": [
    "**Question 3.**\n",
    "\n",
    "Describe three different data types."
   ]
  },
  {
   "cell_type": "markdown",
   "metadata": {},
   "source": [
    "**Answer 3:**\n",
    "\n",
    "\n",
    "The different kind of data types used in Python are:\n",
    "1. String : Strings contains alphabets, numeric values and special symbols\n",
    "2. Integer : Integers contains Numeric values without decimal points\n",
    "3. Float : Floats contains Numeric values with decimal points\n",
    " \n",
    " "
   ]
  },
  {
   "cell_type": "markdown",
   "metadata": {},
   "source": [
    "**Question 4.**\n",
    "\n",
    "What is an expression made up of? What do all expressions do?"
   ]
  },
  {
   "cell_type": "markdown",
   "metadata": {},
   "source": [
    "**Answer 4:**\n",
    "\n",
    "An Expression is made up of variable or constant data joined together with mathematical or logical operators.\n",
    "Example:\n",
    "```python\n",
    "x\n",
    "x+y\n",
    "\"Hello\" * 5\n",
    "x==0 && len(\"length\")>=5\n",
    "x-1+y*12/10\n",
    "```\n",
    "\n",
    "Expressions are used to produce a value. Values are maybe to producter after operations between the variables, constants and the operators \n",
    " \n",
    " "
   ]
  },
  {
   "cell_type": "markdown",
   "metadata": {},
   "source": [
    "**Question5.** \n",
    "\n",
    "This assignment statements, like spam = 10. What is the difference between an expression and a statement?"
   ]
  },
  {
   "cell_type": "markdown",
   "metadata": {},
   "source": [
    "**Answer 5:**\n",
    "\n",
    "\n",
    "When the value of a expression is stored in a variable it becomes a statement. Expression represents a value whereas statement represents a \n",
    "action or instruction like storing a value into a variable or calling a function.\n",
    " \n",
    " "
   ]
  },
  {
   "cell_type": "markdown",
   "metadata": {},
   "source": [
    "**Question 6.**\n",
    "\n",
    "After running the following code, what does the variable bacon contain?\n",
    "```python\n",
    "bacon = 22\n",
    "bacon + 1\n",
    "```\n",
    "\n"
   ]
  },
  {
   "cell_type": "markdown",
   "metadata": {},
   "source": [
    "**Answer 6:**\n",
    "\n",
    "bacon contains 22 \n",
    " \n",
    " "
   ]
  },
  {
   "cell_type": "markdown",
   "metadata": {},
   "source": [
    "**Question 7.**\n",
    "\n",
    "What should the values of the following two terms be?\n",
    "```python\n",
    "'spam' + 'spamspam'\n",
    "'spam' * 3\n",
    "```"
   ]
  },
  {
   "cell_type": "markdown",
   "metadata": {},
   "source": [
    "**Answer 7:**\n",
    "\n",
    "```python\n",
    "spamspamspam\n",
    "spamspamspam\n",
    "```\n",
    " \n",
    " "
   ]
  },
  {
   "cell_type": "markdown",
   "metadata": {},
   "source": [
    "**Question 8.**\n",
    "\n",
    "Why is eggs a valid variable name while 100 is invalid?"
   ]
  },
  {
   "cell_type": "markdown",
   "metadata": {},
   "source": [
    "**Answer 8:**\n",
    "\n",
    "\n",
    "Name of a variable cannot start with a numerical value. Thatswhy eggs a valid variable name while 100 is invalid.\n",
    " \n",
    " "
   ]
  },
  {
   "cell_type": "markdown",
   "metadata": {},
   "source": [
    "**Question 9.**\n",
    "\n",
    "What three functions can be used to get the integer, floating-point number, or string version of a value?"
   ]
  },
  {
   "cell_type": "markdown",
   "metadata": {},
   "source": [
    "**Answer 9:**\n",
    "\n",
    "\n",
    "int() function can be used to convert numerical string value or a float into integers. A integer can be also be obtained by using the mathematical\n",
    "operator '//' for devision while '/' returns floating point values\n",
    "\n",
    "str() function can be used to convert numeric Int value into a string\n",
    "\n",
    "float() function can be used to convert numeric Int value into a floating decimal number or '/' operator can also be used.\n",
    " \n",
    " "
   ]
  },
  {
   "cell_type": "markdown",
   "metadata": {},
   "source": [
    "**Question 10.**\n",
    "\n",
    "Why does this expression cause an error? How can you fix it?\n",
    "```python\n",
    "'I have eaten ' + 99 + ' burritos.'\n",
    "```\n",
    " \n",
    " "
   ]
  },
  {
   "cell_type": "markdown",
   "metadata": {},
   "source": [
    "**Answer 10:**\n",
    "\n",
    "99 in 'I have eaten ' + 99 + ' burritos.' is of Interger type and it cannot be joined with other string values.\n",
    "\n",
    "This error can be fixed by converting 99 into string type either by using str() function or using quotes as:\n",
    "```python\n",
    "'I have eaten ' + str(99) + ' burritos.'\n",
    "'I have eaten ' + '99' + ' burritos.'\n",
    "```\n",
    " \n",
    " "
   ]
  }
 ],
 "metadata": {
  "interpreter": {
   "hash": "201e5bca48aaf77d88fddd3777397742720971969fc1b48107e9378a8b13c7ff"
  },
  "kernelspec": {
   "display_name": "Python 3 (ipykernel)",
   "language": "python",
   "name": "python3"
  },
  "language_info": {
   "codemirror_mode": {
    "name": "ipython",
    "version": 3
   },
   "file_extension": ".py",
   "mimetype": "text/x-python",
   "name": "python",
   "nbconvert_exporter": "python",
   "pygments_lexer": "ipython3",
   "version": "3.9.7"
  }
 },
 "nbformat": 4,
 "nbformat_minor": 2
}
