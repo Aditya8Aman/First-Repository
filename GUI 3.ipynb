{
 "cells": [
  {
   "cell_type": "code",
   "execution_count": 2,
   "id": "7cf0dead",
   "metadata": {},
   "outputs": [],
   "source": [
    "import tkinter\n",
    "root=tkinter.Tk()\n",
    "root.geometry('200x200')\n",
    "b1=tkinter.Button(root,text='LOLOLOL')\n",
    "b1.pack()\n",
    "t1=tkinter.Entry(root,text=\"sfsakfhik\")\n",
    "t1.pack()\n",
    "root.mainloop()"
   ]
  },
  {
   "cell_type": "code",
   "execution_count": 7,
   "id": "ac5cf304",
   "metadata": {},
   "outputs": [],
   "source": [
    "from tkinter import*\n",
    "\n",
    "def showmsg():\n",
    "    tex=Label(root,text=\"dfjfhdsjhf\")\n",
    "    tex.pack()\n",
    "root = Tk()\n",
    "root.geometry('200x200')\n",
    "b1=Button(root,text=\"Click ME\",command=showmsg,relief=\"sunken\")\n",
    "b1.pack()\n",
    "root.mainloop()"
   ]
  },
  {
   "cell_type": "code",
   "execution_count": 19,
   "id": "44c21a00",
   "metadata": {},
   "outputs": [],
   "source": [
    "from tkinter import*\n",
    "import datetime\n",
    "def showmsg():\n",
    "    now=datetime.date.today()\n",
    "    l1=Label(root,text=now)\n",
    "    l1.pack()\n",
    "root = Tk()\n",
    "root.geometry('200x200')\n",
    "b1=Button(root,text=\"Click ME\",command=showmsg,relief=\"sunken\")\n",
    "b1.pack()\n",
    "root.mainloop()"
   ]
  },
  {
   "cell_type": "code",
   "execution_count": 20,
   "id": "628956b9",
   "metadata": {},
   "outputs": [
    {
     "name": "stdout",
     "output_type": "stream",
     "text": [
      "06\n",
      "May\n",
      "2022\n"
     ]
    }
   ],
   "source": [
    "from datetime import *\n",
    "today=datetime.now()\n",
    "day=today.strftime(\"%d\") # this gives day number\n",
    "month=today.strftime(\"%b\") # this gives 3 letter month name\n",
    "year=today.strftime(\"%Y\") # this gives 4 digit year\n",
    "print(day)\n",
    "print(month)\n",
    "print(year)\n"
   ]
  },
  {
   "cell_type": "code",
   "execution_count": 30,
   "id": "601e392b",
   "metadata": {},
   "outputs": [],
   "source": [
    "import tkinter\n",
    "root = tkinter.Tk()\n",
    "count=0\n",
    "def showcount():\n",
    "    global count\n",
    "    count=count+1\n",
    "    countlbl=tkinter.Label(root,text=count)\n",
    "    countlbl.pack()\n",
    "\n",
    "b1=tkinter.Button(root,text=\"sakjkjsa\",command=showcount)\n",
    "b1.pack()\n",
    "root.geometry(\"500x500\")\n",
    "root.mainloop()"
   ]
  },
  {
   "cell_type": "code",
   "execution_count": 31,
   "id": "3868045c",
   "metadata": {},
   "outputs": [],
   "source": [
    "import tkinter\n",
    "root = tkinter.Tk()\n",
    "count=0\n",
    "def showcount():\n",
    "    global count\n",
    "    count=count+1\n",
    "    countlbl.config(text=str(count))\n",
    "\n",
    "b1=tkinter.Button(root,text=\"sakjkjsa\",command=showcount)\n",
    "b1.pack()\n",
    "countlbl=tkinter.Label(root,text='no clicks')\n",
    "countlbl.pack()\n",
    "root.geometry(\"500x500\")\n",
    "root.mainloop()"
   ]
  },
  {
   "cell_type": "code",
   "execution_count": 3,
   "id": "46484af4",
   "metadata": {},
   "outputs": [],
   "source": [
    "import tkinter\n",
    "root = tkinter.Tk()\n",
    "root.count=0\n",
    "def showcount():\n",
    "    root.count+1\n",
    "    countlbl.config(text=str(root.count))\n",
    "\n",
    "b1=tkinter.Button(root,text=\"sakjkjsa\",command=showcount)\n",
    "b1.pack()\n",
    "countlbl=tkinter.Label(root,text='no clicks')\n",
    "countlbl.pack()\n",
    "root.geometry(\"500x500\")\n",
    "root.mainloop()"
   ]
  },
  {
   "cell_type": "code",
   "execution_count": 7,
   "id": "aeb8b65d",
   "metadata": {},
   "outputs": [],
   "source": [
    "from tkinter import *\n",
    "root = tkinter.Tk()\n",
    "count=0\n",
    "def showcount():\n",
    "    countlbl.delete(0, END)\n",
    "    global count\n",
    "    count+=1\n",
    "    countlbl.insert(0, count)\n",
    "\n",
    "b1=tkinter.Button(root,text=\"sakjkjsa\",command=showcount)\n",
    "b1.pack()\n",
    "countlbl=tkinter.Entry(root )\n",
    "countlbl.pack()\n",
    "root.geometry(\"500x500\")\n",
    "root.mainloop()"
   ]
  },
  {
   "cell_type": "code",
   "execution_count": 26,
   "id": "27629794",
   "metadata": {},
   "outputs": [],
   "source": [
    "from tkinter import *\n",
    "root=Tk()\n",
    "root.geometry('500x500')\n",
    "def fnRed():\n",
    "    l1[\"bg\"]=\"red\"\n",
    "\n",
    "def fnGreen():\n",
    "    l1[\"bg\"]=\"green\"\n",
    "\n",
    "def fnBlue():\n",
    "    l1[\"bg\"] = \"blue\"\n",
    "\n",
    "b1=Button(root,text=\"red\",command=fnRed)\n",
    "b2=Button(root,text=\"green\",command=fnGreen)\n",
    "b3=Button(root,text=\"blue\",command=fnBlue)\n",
    "\n",
    "b1.grid(row=1,column=0)\n",
    "b2.grid(row=1,column=1)\n",
    "b3.grid(row=1,column=2)\n",
    "l1=Label(root,text='',bg='white',height=10,width=20)\n",
    "l1.grid(row=0,column=1)\n",
    "\n",
    "root.mainloop()"
   ]
  },
  {
   "cell_type": "code",
   "execution_count": null,
   "id": "6a2415e3",
   "metadata": {},
   "outputs": [],
   "source": [
    "from tkinter import *\n",
    "root=Tk()\n",
    "root.geometry('500x500')\n",
    "\n",
    "b1=Button(root,text=\"red\",command=fnRed)\n",
    "b2=Button(root,text=\"green\",command=fnGreen)\n",
    "b3=Button(root,text=\"blue\",command=lambda: l1.confiqBlue)\n",
    "\n",
    "b1.grid(row=1,column=0)\n",
    "b2.grid(row=1,column=1)\n",
    "b3.grid(row=1,column=2)\n",
    "l1=Label(root,text='',bg='white',height=10,width=20)\n",
    "l1.grid(row=0,column=1)\n",
    "\n",
    "root.mainloop()"
   ]
  },
  {
   "cell_type": "code",
   "execution_count": 33,
   "id": "f0dd992d",
   "metadata": {},
   "outputs": [],
   "source": [
    "import tkinter\n",
    "root=tkinter.Tk()\n",
    "root.geometry('200x200')\n",
    "b1=tkinter.Button(root,text='LOLOLOL',bg=\"red\")\n",
    "b1.pack()\n",
    "t1=tkinter.Label(root,text=\"sfsakfhik\",bg=\"lime\")\n",
    "t1.pack(fill=tkinter.X,padx=(0,10))\n",
    "root.mainloop()"
   ]
  },
  {
   "cell_type": "code",
   "execution_count": null,
   "id": "99b44026",
   "metadata": {},
   "outputs": [],
   "source": []
  }
 ],
 "metadata": {
  "kernelspec": {
   "display_name": "Python 3 (ipykernel)",
   "language": "python",
   "name": "python3"
  },
  "language_info": {
   "codemirror_mode": {
    "name": "ipython",
    "version": 3
   },
   "file_extension": ".py",
   "mimetype": "text/x-python",
   "name": "python",
   "nbconvert_exporter": "python",
   "pygments_lexer": "ipython3",
   "version": "3.9.7"
  }
 },
 "nbformat": 4,
 "nbformat_minor": 5
}
