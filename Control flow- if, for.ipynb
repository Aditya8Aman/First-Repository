{
 "cells": [
  {
   "cell_type": "code",
   "execution_count": 6,
   "id": "459c305b",
   "metadata": {},
   "outputs": [],
   "source": [
    "a=10"
   ]
  },
  {
   "cell_type": "code",
   "execution_count": 7,
   "id": "54cf66f8",
   "metadata": {},
   "outputs": [
    {
     "ename": "SyntaxError",
     "evalue": "invalid syntax (Temp/ipykernel_11172/3513270752.py, line 1)",
     "output_type": "error",
     "traceback": [
      "\u001b[1;36m  File \u001b[1;32m\"C:\\Users\\MSI\\AppData\\Local\\Temp/ipykernel_11172/3513270752.py\"\u001b[1;36m, line \u001b[1;32m1\u001b[0m\n\u001b[1;33m    if a<15\u001b[0m\n\u001b[1;37m           ^\u001b[0m\n\u001b[1;31mSyntaxError\u001b[0m\u001b[1;31m:\u001b[0m invalid syntax\n"
     ]
    }
   ],
   "source": [
    "if a<15"
   ]
  },
  {
   "cell_type": "code",
   "execution_count": 8,
   "id": "80d97483",
   "metadata": {},
   "outputs": [
    {
     "data": {
      "text/plain": [
       "True"
      ]
     },
     "execution_count": 8,
     "metadata": {},
     "output_type": "execute_result"
    }
   ],
   "source": [
    "a<15"
   ]
  },
  {
   "cell_type": "code",
   "execution_count": 9,
   "id": "9b81d2b4",
   "metadata": {},
   "outputs": [
    {
     "name": "stdout",
     "output_type": "stream",
     "text": [
      "abc\n"
     ]
    }
   ],
   "source": [
    "if a<15 : \n",
    "    print(\"abc\")"
   ]
  },
  {
   "cell_type": "code",
   "execution_count": 10,
   "id": "967c7da4",
   "metadata": {},
   "outputs": [],
   "source": [
    "if a<15:\n",
    "    pass"
   ]
  },
  {
   "cell_type": "code",
   "execution_count": 11,
   "id": "f72710cc",
   "metadata": {},
   "outputs": [],
   "source": [
    "if a>15:\n",
    "      print(\"no result\")"
   ]
  },
  {
   "cell_type": "code",
   "execution_count": 12,
   "id": "5ef6ece3",
   "metadata": {},
   "outputs": [
    {
     "data": {
      "text/plain": [
       "False"
      ]
     },
     "execution_count": 12,
     "metadata": {},
     "output_type": "execute_result"
    }
   ],
   "source": [
    "a>15"
   ]
  },
  {
   "cell_type": "code",
   "execution_count": 13,
   "id": "21e74ccc",
   "metadata": {},
   "outputs": [
    {
     "name": "stdout",
     "output_type": "stream",
     "text": [
      "haan\n"
     ]
    }
   ],
   "source": [
    "if 10<3 :\n",
    "    print(\"lol\")\n",
    "else :\n",
    "    print(\"haan\")"
   ]
  },
  {
   "cell_type": "code",
   "execution_count": 14,
   "id": "987ba5d6",
   "metadata": {},
   "outputs": [
    {
     "name": "stdout",
     "output_type": "stream",
     "text": [
      "lol\n"
     ]
    }
   ],
   "source": [
    "if 10>3 :\n",
    "    print(\"lol\")\n",
    "else :\n",
    "    print(\"haan\")"
   ]
  },
  {
   "cell_type": "code",
   "execution_count": 15,
   "id": "a0c53e9e",
   "metadata": {},
   "outputs": [
    {
     "name": "stdout",
     "output_type": "stream",
     "text": [
      "I won't be able to buy anything\n"
     ]
    }
   ],
   "source": [
    "income = 100\n",
    "if income<50:\n",
    "    print(\"i'll be able to buy food\")\n",
    "elif income<70 :\n",
    "    print (\"i'll be able to buy cloth\")\n",
    "elif income <90:\n",
    "    print (\"i'll be able to buy house\")\n",
    "else :\n",
    "    print(\"I won't be able to buy anything\")"
   ]
  },
  {
   "cell_type": "code",
   "execution_count": 16,
   "id": "a5d82af0",
   "metadata": {},
   "outputs": [
    {
     "name": "stdout",
     "output_type": "stream",
     "text": [
      "i'll be able to buy food\n"
     ]
    }
   ],
   "source": [
    "income = 10\n",
    "if income<50:\n",
    "    print(\"i'll be able to buy food\")\n",
    "elif income<70 :\n",
    "    print (\"i'll be able to buy cloth\")\n",
    "elif income <90:\n",
    "    print (\"i'll be able to buy house\")\n",
    "else :\n",
    "    print(\"I won't be able to buy anything\")"
   ]
  },
  {
   "cell_type": "code",
   "execution_count": 17,
   "id": "ec90c826",
   "metadata": {},
   "outputs": [
    {
     "name": "stdout",
     "output_type": "stream",
     "text": [
      "10\n",
      "i'll be able to buy food\n"
     ]
    }
   ],
   "source": [
    "income = int (input())\n",
    "if income<50:\n",
    "    print(\"i'll be able to buy food\")\n",
    "elif income<70 :\n",
    "    print (\"i'll be able to buy cloth\")\n",
    "elif income <90:\n",
    "    print (\"i'll be able to buy house\")\n",
    "else :\n",
    "    print(\"I won't be able to buy anything\")"
   ]
  },
  {
   "cell_type": "code",
   "execution_count": 23,
   "id": "e87900dc",
   "metadata": {},
   "outputs": [
    {
     "name": "stdout",
     "output_type": "stream",
     "text": [
      "10000\n",
      "no discount\n"
     ]
    }
   ],
   "source": [
    "total =int(input())\n",
    "if total > 20000:\n",
    "    discount = total *.20\n",
    "    print(\"discount will be\", discount)\n",
    "elif total <=7000:\n",
    "    discount = total*.05\n",
    "    print(\"discount will be\",discount)\n",
    "else:\n",
    "    print(\"no discount\")"
   ]
  },
  {
   "cell_type": "code",
   "execution_count": 25,
   "id": "fb7d07eb",
   "metadata": {},
   "outputs": [
    {
     "name": "stdout",
     "output_type": "stream",
     "text": [
      "coup\n",
      "you will get 5% discount\n",
      "fees=  6650.0\n"
     ]
    }
   ],
   "source": [
    "coup=input()\n",
    "if coup==\"coup\":\n",
    "    print(\"you will get 5% discount\")\n",
    "    fees = 7000-7000*.05\n",
    "    print(\"fees= \",fees)\n",
    "else:\n",
    "    print(\"invalid coupo\")"
   ]
  },
  {
   "cell_type": "code",
   "execution_count": null,
   "id": "81931ccd",
   "metadata": {},
   "outputs": [],
   "source": [
    "\n",
    "s=input(\"service:\")\n",
    "course =input(\"course: \")\n",
    "if s ==\"AA\":\n",
    "    if course==\"DSA\":\n",
    "        print(\"yes\")\n",
    "    elif course==\"BLCH\":\n",
    "        print(\"no\")\n",
    "    elif course==\"sxm\":\n",
    "        print(\"yes\")\n",
    "    else :\n",
    "        print(\"lol\")\n",
    "elif s == \"BB\":\n",
    "    if course ==\"dsa\"\n",
    "     print(\"yes\")\n",
    "    elif course==\"BLCH\":\n",
    "        print(\"no\")\n",
    "    elif course==\"sxm\":\n",
    "        print(\"yes\")\n",
    "    else :\n",
    "        print(\"lol\")\n",
    "else :\n",
    "    print(\"buy\")"
   ]
  },
  {
   "cell_type": "code",
   "execution_count": 1,
   "id": "48ca4d77",
   "metadata": {},
   "outputs": [
    {
     "name": "stdout",
     "output_type": "stream",
     "text": [
      "service:AA\n",
      "course: DSA\n",
      "yes\n"
     ]
    }
   ],
   "source": [
    "s=input(\"service:\")\n",
    "course =input(\"course: \")\n",
    "if s ==\"AA\":\n",
    "    if course==\"DSA\":\n",
    "        print(\"yes\")\n",
    "    elif course==\"BLCH\":\n",
    "        print(\"no\")\n",
    "    elif course==\"sxm\":\n",
    "        print(\"yes\")\n",
    "    else :\n",
    "        print(\"lol\")\n",
    "elif s == \"BB\":\n",
    "    if course ==\"dsa\":\n",
    "        print(\"yes\")\n",
    "    elif course==\"BLCH\":\n",
    "        print(\"no\")\n",
    "    elif course==\"sxm\":\n",
    "        print(\"yes\")\n",
    "    else :\n",
    "        print(\"lol\")\n",
    "else :\n",
    "    print(\"buy\")"
   ]
  },
  {
   "cell_type": "code",
   "execution_count": 5,
   "id": "37ecca1c",
   "metadata": {},
   "outputs": [
    {
     "name": "stdout",
     "output_type": "stream",
     "text": [
      "2\n",
      "2\n",
      "3\n",
      "4\n",
      "5\n"
     ]
    }
   ],
   "source": [
    "l=[2,2,3,4,5]\n",
    "for i in l:\n",
    "    print(i)"
   ]
  },
  {
   "cell_type": "code",
   "execution_count": 7,
   "id": "3e43cf23",
   "metadata": {},
   "outputs": [
    {
     "name": "stdout",
     "output_type": "stream",
     "text": [
      "A\n",
      "d\n",
      "i\n",
      "t\n",
      "y\n",
      "a\n"
     ]
    }
   ],
   "source": [
    "for i in \"Aditya\":\n",
    "    print(i)"
   ]
  },
  {
   "cell_type": "code",
   "execution_count": 8,
   "id": "bbe345dc",
   "metadata": {},
   "outputs": [
    {
     "name": "stdout",
     "output_type": "stream",
     "text": [
      "1\n",
      "2\n",
      "3\n",
      "4\n",
      "4\n",
      "5\n"
     ]
    }
   ],
   "source": [
    "t=(1,2,3,4,4,5)\n",
    "for i in t:\n",
    "    print(i)"
   ]
  },
  {
   "cell_type": "code",
   "execution_count": 11,
   "id": "8b275aa5",
   "metadata": {},
   "outputs": [
    {
     "name": "stdout",
     "output_type": "stream",
     "text": [
      "<class 'int'>  is the type of 1\n",
      "<class 'float'>  is the type of 3.4\n",
      "<class 'complex'>  is the type of (4+4j)\n",
      "<class 'str'>  is the type of aa\n",
      "<class 'tuple'>  is the type of (1, 2)\n",
      "<class 'list'>  is the type of [1, 2]\n"
     ]
    }
   ],
   "source": [
    "l1=[1,3.4,4+4j,\"aa\",(1,2),[1,2]]\n",
    "for i in l1:\n",
    "    print(type(i),\" is the type of\", i)"
   ]
  },
  {
   "cell_type": "code",
   "execution_count": 13,
   "id": "1608cb60",
   "metadata": {},
   "outputs": [
    {
     "data": {
      "text/plain": [
       "[2, 3, 4, 5, 6]"
      ]
     },
     "execution_count": 13,
     "metadata": {},
     "output_type": "execute_result"
    }
   ],
   "source": [
    "l=[1,2,3,4,5]\n",
    "l1=[]\n",
    "for i in l:\n",
    "    l1.append(i+1)\n",
    "l1"
   ]
  },
  {
   "cell_type": "code",
   "execution_count": 5,
   "id": "b958c4b9",
   "metadata": {},
   "outputs": [
    {
     "name": "stdout",
     "output_type": "stream",
     "text": [
      "1\n",
      "2\n",
      "3\n",
      "4\n",
      "5\n",
      "1\n",
      "2\n",
      "abc\n",
      "3\n",
      "4\n",
      "5\n",
      "a\n",
      "[1, 2]\n"
     ]
    }
   ],
   "source": [
    "l=[1,2,\"abc\",3,4,5,\"a\",[1,2]]\n",
    "for i in l:\n",
    "    if type(i)== int:\n",
    "        print(i)\n",
    "    elif type(i)==list:\n",
    "        for j in l:\n",
    "            print(j)"
   ]
  },
  {
   "cell_type": "code",
   "execution_count": 13,
   "id": "d3e367e0",
   "metadata": {},
   "outputs": [
    {
     "name": "stdout",
     "output_type": "stream",
     "text": [
      "1\n",
      "2\n",
      "3\n",
      "4\n",
      "5\n",
      "1\n",
      "2\n"
     ]
    }
   ],
   "source": [
    "l=[1,2,\"abc\",3,4,5,\"a\",[1,2]]\n",
    "for i in l:\n",
    "    if type(i)== int:\n",
    "        print(i)\n",
    "    elif type(i)==list:\n",
    "        for j in i:\n",
    "            if type(j)==int:\n",
    "                 print(j)"
   ]
  },
  {
   "cell_type": "code",
   "execution_count": 23,
   "id": "3695d5b8",
   "metadata": {},
   "outputs": [],
   "source": [
    "l=[2,45,78,12,12,12,\"sudh\", 6+7j,[56,67,78,\"sddasd\"]]"
   ]
  },
  {
   "cell_type": "code",
   "execution_count": 27,
   "id": "24438382",
   "metadata": {},
   "outputs": [
    {
     "name": "stdout",
     "output_type": "stream",
     "text": [
      "0\n",
      "1\n",
      "2\n",
      "3\n",
      "3\n",
      "3\n",
      "6\n",
      "7\n",
      "8\n"
     ]
    }
   ],
   "source": [
    "for i in l:\n",
    "    print(l.index(i))\n",
    "    \n"
   ]
  },
  {
   "cell_type": "code",
   "execution_count": 48,
   "id": "0d256c34",
   "metadata": {},
   "outputs": [
    {
     "data": {
      "text/plain": [
       "[0, 1, 4, 9, 16, 25, 36, 49, 64]"
      ]
     },
     "execution_count": 48,
     "metadata": {},
     "output_type": "execute_result"
    }
   ],
   "source": [
    "l1=[]\n",
    "for i in range(len(l)):\n",
    "    if type(i)== int:\n",
    "        l1.append(i**2)\n",
    "    elif type(i)== list:\n",
    "        for j in i:\n",
    "            if type(j)==int:\n",
    "                l1.append(j*j)\n",
    "                \n",
    "l1"
   ]
  },
  {
   "cell_type": "code",
   "execution_count": 25,
   "id": "5385adb3",
   "metadata": {},
   "outputs": [
    {
     "name": "stdout",
     "output_type": "stream",
     "text": [
      "Index 0 for 2\n",
      "Index 1 for 45\n",
      "Index 2 for 78\n",
      "Index 3 for 12\n",
      "Index 4 for 12\n",
      "Index 5 for 12\n",
      "Index 6 for sudh\n",
      "Index 7 for (6+7j)\n",
      "Index 8 for [56, 67, 78, 'sddasd']\n"
     ]
    }
   ],
   "source": [
    "for i in range(len(l)):\n",
    "    print(\"Index\", i,\"for\", l[i])"
   ]
  },
  {
   "cell_type": "code",
   "execution_count": 28,
   "id": "a22d37ce",
   "metadata": {},
   "outputs": [
    {
     "name": "stdout",
     "output_type": "stream",
     "text": [
      "0 2\n",
      "1 45\n",
      "2 78\n",
      "3 12\n",
      "4 12\n",
      "5 12\n",
      "6 sudh\n",
      "7 (6+7j)\n",
      "8 [56, 67, 78, 'sddasd']\n"
     ]
    }
   ],
   "source": [
    "for i,j in enumerate(l):\n",
    "    print(i,j)"
   ]
  },
  {
   "cell_type": "code",
   "execution_count": 30,
   "id": "dbd67b94",
   "metadata": {},
   "outputs": [
    {
     "name": "stdout",
     "output_type": "stream",
     "text": [
      "['s', 'u', 'd', 'h']\n"
     ]
    }
   ],
   "source": [
    "for i in l:\n",
    "    if(type(i)==str):\n",
    "        l1=[]\n",
    "        for j in i:\n",
    "            l1.append(j)\n",
    "        print(l1)"
   ]
  },
  {
   "cell_type": "code",
   "execution_count": 40,
   "id": "be22eb10",
   "metadata": {},
   "outputs": [],
   "source": [
    "l2=[]\n",
    "for i in l:\n",
    "    if type(i)==int:\n",
    "        l2.append(i**2)\n",
    "    elif type(i)==list:\n",
    "        for j in i:\n",
    "            if type(j)==int:\n",
    "                l2.append(j**2)"
   ]
  },
  {
   "cell_type": "code",
   "execution_count": 37,
   "id": "94e42dc6",
   "metadata": {},
   "outputs": [
    {
     "data": {
      "text/plain": [
       "[4, 2025, 6084, 144, 144, 144, 3136, 4489, 6084]"
      ]
     },
     "execution_count": 37,
     "metadata": {},
     "output_type": "execute_result"
    }
   ],
   "source": [
    "l2"
   ]
  },
  {
   "cell_type": "code",
   "execution_count": 50,
   "id": "e1df5290",
   "metadata": {},
   "outputs": [],
   "source": [
    "l2=[]\n",
    "for i in l:\n",
    "    if type(i)==int:\n",
    "        l2.append(i.real**2)\n",
    "    elif type(i)==list:\n",
    "        for j in i:\n",
    "            if type(j)==int:\n",
    "                l2.append(j**2)\n",
    "    elif type(i)== complex:\n",
    "        l2.append(i.real**2)"
   ]
  },
  {
   "cell_type": "code",
   "execution_count": 51,
   "id": "28cb8d32",
   "metadata": {},
   "outputs": [
    {
     "data": {
      "text/plain": [
       "[4, 2025, 6084, 144, 144, 144, 36.0, 3136, 4489, 6084]"
      ]
     },
     "execution_count": 51,
     "metadata": {},
     "output_type": "execute_result"
    }
   ],
   "source": [
    "l2"
   ]
  },
  {
   "cell_type": "code",
   "execution_count": 54,
   "id": "55e384f9",
   "metadata": {},
   "outputs": [
    {
     "data": {
      "text/plain": [
       "[56, 67, 78, 'sddasd']"
      ]
     },
     "execution_count": 54,
     "metadata": {},
     "output_type": "execute_result"
    }
   ],
   "source": [
    "l=[2,45,78,12,12,12,\"sudh\", 6+7j,[56,67,78,\"sddasd\"]]\n",
    "l3=[]\n",
    "for i in l:\n",
    "    if type(i)==list:\n",
    "        l3.extend(i)\n",
    "l3"
   ]
  },
  {
   "cell_type": "code",
   "execution_count": null,
   "id": "bcb824bb",
   "metadata": {},
   "outputs": [],
   "source": []
  }
 ],
 "metadata": {
  "kernelspec": {
   "display_name": "Python 3 (ipykernel)",
   "language": "python",
   "name": "python3"
  },
  "language_info": {
   "codemirror_mode": {
    "name": "ipython",
    "version": 3
   },
   "file_extension": ".py",
   "mimetype": "text/x-python",
   "name": "python",
   "nbconvert_exporter": "python",
   "pygments_lexer": "ipython3",
   "version": "3.9.7"
  }
 },
 "nbformat": 4,
 "nbformat_minor": 5
}
