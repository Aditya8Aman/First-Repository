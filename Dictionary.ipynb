{
 "cells": [
  {
   "cell_type": "code",
   "execution_count": 1,
   "id": "c4ae2842",
   "metadata": {},
   "outputs": [],
   "source": [
    "d ={}"
   ]
  },
  {
   "cell_type": "code",
   "execution_count": 2,
   "id": "b8090edc",
   "metadata": {},
   "outputs": [
    {
     "data": {
      "text/plain": [
       "dict"
      ]
     },
     "execution_count": 2,
     "metadata": {},
     "output_type": "execute_result"
    }
   ],
   "source": [
    "type(d)"
   ]
  },
  {
   "cell_type": "code",
   "execution_count": 3,
   "id": "23fe441d",
   "metadata": {},
   "outputs": [
    {
     "ename": "NameError",
     "evalue": "name 'a' is not defined",
     "output_type": "error",
     "traceback": [
      "\u001b[1;31m---------------------------------------------------------------------------\u001b[0m",
      "\u001b[1;31mNameError\u001b[0m                                 Traceback (most recent call last)",
      "\u001b[1;32m~\\AppData\\Local\\Temp/ipykernel_4396/284135625.py\u001b[0m in \u001b[0;36m<module>\u001b[1;34m\u001b[0m\n\u001b[1;32m----> 1\u001b[1;33m \u001b[0md\u001b[0m\u001b[1;33m=\u001b[0m\u001b[1;33m{\u001b[0m\u001b[0ma\u001b[0m\u001b[1;33m,\u001b[0m\u001b[0mb\u001b[0m\u001b[1;33m}\u001b[0m\u001b[1;33m\u001b[0m\u001b[1;33m\u001b[0m\u001b[0m\n\u001b[0m",
      "\u001b[1;31mNameError\u001b[0m: name 'a' is not defined"
     ]
    }
   ],
   "source": [
    "d={a,b}"
   ]
  },
  {
   "cell_type": "code",
   "execution_count": 4,
   "id": "05730006",
   "metadata": {},
   "outputs": [],
   "source": [
    "d={1,2}"
   ]
  },
  {
   "cell_type": "code",
   "execution_count": 5,
   "id": "009ce15a",
   "metadata": {},
   "outputs": [
    {
     "data": {
      "text/plain": [
       "set"
      ]
     },
     "execution_count": 5,
     "metadata": {},
     "output_type": "execute_result"
    }
   ],
   "source": [
    "type(d)"
   ]
  },
  {
   "cell_type": "code",
   "execution_count": 6,
   "id": "e54323b1",
   "metadata": {},
   "outputs": [],
   "source": [
    "d ={4:\"abc\"}"
   ]
  },
  {
   "cell_type": "code",
   "execution_count": 7,
   "id": "f94b1fdb",
   "metadata": {},
   "outputs": [],
   "source": [
    "d1={\"key1\":1, \"key2\":2,\"key3\":[3,4,5]}"
   ]
  },
  {
   "cell_type": "code",
   "execution_count": 8,
   "id": "e0249d75",
   "metadata": {},
   "outputs": [
    {
     "data": {
      "text/plain": [
       "dict"
      ]
     },
     "execution_count": 8,
     "metadata": {},
     "output_type": "execute_result"
    }
   ],
   "source": [
    "type(d1)"
   ]
  },
  {
   "cell_type": "code",
   "execution_count": 9,
   "id": "a7da6ad5",
   "metadata": {},
   "outputs": [
    {
     "ename": "NameError",
     "evalue": "name 'key1' is not defined",
     "output_type": "error",
     "traceback": [
      "\u001b[1;31m---------------------------------------------------------------------------\u001b[0m",
      "\u001b[1;31mNameError\u001b[0m                                 Traceback (most recent call last)",
      "\u001b[1;32m~\\AppData\\Local\\Temp/ipykernel_4396/4210010268.py\u001b[0m in \u001b[0;36m<module>\u001b[1;34m\u001b[0m\n\u001b[1;32m----> 1\u001b[1;33m \u001b[0md\u001b[0m\u001b[1;33m[\u001b[0m\u001b[0mkey1\u001b[0m\u001b[1;33m]\u001b[0m\u001b[1;33m\u001b[0m\u001b[1;33m\u001b[0m\u001b[0m\n\u001b[0m",
      "\u001b[1;31mNameError\u001b[0m: name 'key1' is not defined"
     ]
    }
   ],
   "source": [
    "d[key1]"
   ]
  },
  {
   "cell_type": "code",
   "execution_count": 10,
   "id": "93b9e912",
   "metadata": {},
   "outputs": [
    {
     "ename": "NameError",
     "evalue": "name 'key1' is not defined",
     "output_type": "error",
     "traceback": [
      "\u001b[1;31m---------------------------------------------------------------------------\u001b[0m",
      "\u001b[1;31mNameError\u001b[0m                                 Traceback (most recent call last)",
      "\u001b[1;32m~\\AppData\\Local\\Temp/ipykernel_4396/602289308.py\u001b[0m in \u001b[0;36m<module>\u001b[1;34m\u001b[0m\n\u001b[1;32m----> 1\u001b[1;33m \u001b[0md1\u001b[0m\u001b[1;33m[\u001b[0m\u001b[0mkey1\u001b[0m\u001b[1;33m]\u001b[0m\u001b[1;33m\u001b[0m\u001b[1;33m\u001b[0m\u001b[0m\n\u001b[0m",
      "\u001b[1;31mNameError\u001b[0m: name 'key1' is not defined"
     ]
    }
   ],
   "source": [
    "d1[key1]"
   ]
  },
  {
   "cell_type": "code",
   "execution_count": 11,
   "id": "d90cbe12",
   "metadata": {},
   "outputs": [
    {
     "data": {
      "text/plain": [
       "1"
      ]
     },
     "execution_count": 11,
     "metadata": {},
     "output_type": "execute_result"
    }
   ],
   "source": [
    "d1[\"key1\"]"
   ]
  },
  {
   "cell_type": "code",
   "execution_count": 13,
   "id": "4af025de",
   "metadata": {},
   "outputs": [
    {
     "data": {
      "text/plain": [
       "[3, 4, 5]"
      ]
     },
     "execution_count": 13,
     "metadata": {},
     "output_type": "execute_result"
    }
   ],
   "source": [
    "d1[\"key3\"]"
   ]
  },
  {
   "cell_type": "code",
   "execution_count": 14,
   "id": "357bab35",
   "metadata": {},
   "outputs": [
    {
     "data": {
      "text/plain": [
       "4"
      ]
     },
     "execution_count": 14,
     "metadata": {},
     "output_type": "execute_result"
    }
   ],
   "source": [
    "d1[\"key3\"][1]"
   ]
  },
  {
   "cell_type": "code",
   "execution_count": 16,
   "id": "2ceaa2a2",
   "metadata": {},
   "outputs": [],
   "source": [
    "d2={\"key\":{3,4,5,6,7}, \"key\":1}"
   ]
  },
  {
   "cell_type": "code",
   "execution_count": 17,
   "id": "66dfca28",
   "metadata": {},
   "outputs": [
    {
     "data": {
      "text/plain": [
       "1"
      ]
     },
     "execution_count": 17,
     "metadata": {},
     "output_type": "execute_result"
    }
   ],
   "source": [
    "d2[\"key\"]"
   ]
  },
  {
   "cell_type": "code",
   "execution_count": 3,
   "id": "25965184",
   "metadata": {},
   "outputs": [],
   "source": [
    "d={\"name\":\"Abc\", \"Mobile\": 123456789,\"Mail_id\": \"addpjdfsfjk\", \"list\":[1,\"ss\"],\"tuple\":(1,2,3,4,), \"set\":{2,3,4,2},\"dict\":{\"k\":12}}"
   ]
  },
  {
   "cell_type": "code",
   "execution_count": 2,
   "id": "31b64ad0",
   "metadata": {},
   "outputs": [
    {
     "data": {
      "text/plain": [
       "{'name': 'Abc',\n",
       " 'Mobile': 123456789,\n",
       " 'Mail_id': 'addpjdfsfjk',\n",
       " 'list': [1, 'ss'],\n",
       " 'tuple': (1, 2, 3, 4),\n",
       " 'set': {2, 3, 4},\n",
       " 'dict': {'k': 12}}"
      ]
     },
     "execution_count": 2,
     "metadata": {},
     "output_type": "execute_result"
    }
   ],
   "source": [
    "d"
   ]
  },
  {
   "cell_type": "code",
   "execution_count": 4,
   "id": "7d7cdd8b",
   "metadata": {},
   "outputs": [
    {
     "data": {
      "text/plain": [
       "12"
      ]
     },
     "execution_count": 4,
     "metadata": {},
     "output_type": "execute_result"
    }
   ],
   "source": [
    "\"d[\"dict\"][\"k\"]"
   ]
  },
  {
   "cell_type": "code",
   "execution_count": 5,
   "id": "f38a6fdb",
   "metadata": {},
   "outputs": [
    {
     "data": {
      "text/plain": [
       "dict_keys(['name', 'Mobile', 'Mail_id', 'list', 'tuple', 'set', 'dict'])"
      ]
     },
     "execution_count": 5,
     "metadata": {},
     "output_type": "execute_result"
    }
   ],
   "source": [
    "d.keys()"
   ]
  },
  {
   "cell_type": "code",
   "execution_count": 6,
   "id": "a0dd0cfa",
   "metadata": {},
   "outputs": [
    {
     "data": {
      "text/plain": [
       "dict_values(['Abc', 123456789, 'addpjdfsfjk', [1, 'ss'], (1, 2, 3, 4), {2, 3, 4}, {'k': 12}])"
      ]
     },
     "execution_count": 6,
     "metadata": {},
     "output_type": "execute_result"
    }
   ],
   "source": [
    "d.values()"
   ]
  },
  {
   "cell_type": "code",
   "execution_count": 7,
   "id": "59ff6430",
   "metadata": {},
   "outputs": [
    {
     "data": {
      "text/plain": [
       "dict_items([('name', 'Abc'), ('Mobile', 123456789), ('Mail_id', 'addpjdfsfjk'), ('list', [1, 'ss']), ('tuple', (1, 2, 3, 4)), ('set', {2, 3, 4}), ('dict', {'k': 12})])"
      ]
     },
     "execution_count": 7,
     "metadata": {},
     "output_type": "execute_result"
    }
   ],
   "source": [
    "d.items()"
   ]
  },
  {
   "cell_type": "code",
   "execution_count": 8,
   "id": "f87a3d5b",
   "metadata": {},
   "outputs": [],
   "source": [
    "d1={\"k\":\"v\"}"
   ]
  },
  {
   "cell_type": "code",
   "execution_count": 9,
   "id": "c1160cfb",
   "metadata": {},
   "outputs": [],
   "source": [
    "d1[\"l\"] = \"v1\""
   ]
  },
  {
   "cell_type": "code",
   "execution_count": 10,
   "id": "2bea7592",
   "metadata": {},
   "outputs": [
    {
     "data": {
      "text/plain": [
       "{'k': 'v', 'l': 'v1'}"
      ]
     },
     "execution_count": 10,
     "metadata": {},
     "output_type": "execute_result"
    }
   ],
   "source": [
    "d1"
   ]
  },
  {
   "cell_type": "code",
   "execution_count": 12,
   "id": "c981b7cc",
   "metadata": {},
   "outputs": [],
   "source": [
    "d1[\"k\"]=\"v2\""
   ]
  },
  {
   "cell_type": "code",
   "execution_count": 13,
   "id": "1708ab60",
   "metadata": {},
   "outputs": [
    {
     "data": {
      "text/plain": [
       "{'k': 'v2', 'l': 'v1'}"
      ]
     },
     "execution_count": 13,
     "metadata": {},
     "output_type": "execute_result"
    }
   ],
   "source": [
    "d1"
   ]
  },
  {
   "cell_type": "code",
   "execution_count": 15,
   "id": "dc3ae2e5",
   "metadata": {},
   "outputs": [],
   "source": [
    "del d1[\"l\"]"
   ]
  },
  {
   "cell_type": "code",
   "execution_count": 16,
   "id": "20a9ede4",
   "metadata": {},
   "outputs": [
    {
     "data": {
      "text/plain": [
       "{'k': 'v2'}"
      ]
     },
     "execution_count": 16,
     "metadata": {},
     "output_type": "execute_result"
    }
   ],
   "source": [
    "d1"
   ]
  },
  {
   "cell_type": "code",
   "execution_count": 18,
   "id": "bb296e3d",
   "metadata": {},
   "outputs": [],
   "source": [
    "del d1"
   ]
  },
  {
   "cell_type": "code",
   "execution_count": 19,
   "id": "af3bf18a",
   "metadata": {},
   "outputs": [
    {
     "data": {
      "text/plain": [
       "[1, 'ss']"
      ]
     },
     "execution_count": 19,
     "metadata": {},
     "output_type": "execute_result"
    }
   ],
   "source": [
    "d.get(\"list\")"
   ]
  },
  {
   "cell_type": "code",
   "execution_count": 20,
   "id": "bfc72e8b",
   "metadata": {},
   "outputs": [],
   "source": [
    "d.get(\"ooo\")"
   ]
  },
  {
   "cell_type": "code",
   "execution_count": 21,
   "id": "d1c02325",
   "metadata": {},
   "outputs": [
    {
     "data": {
      "text/plain": [
       "{'name': 'Abc',\n",
       " 'Mobile': 123456789,\n",
       " 'Mail_id': 'addpjdfsfjk',\n",
       " 'list': [1, 'ss'],\n",
       " 'tuple': (1, 2, 3, 4),\n",
       " 'set': {2, 3, 4},\n",
       " 'dict': {'k': 12}}"
      ]
     },
     "execution_count": 21,
     "metadata": {},
     "output_type": "execute_result"
    }
   ],
   "source": [
    "d"
   ]
  },
  {
   "cell_type": "code",
   "execution_count": 22,
   "id": "909b1005",
   "metadata": {},
   "outputs": [],
   "source": [
    " d1={\"k\":\"v\"}"
   ]
  },
  {
   "cell_type": "code",
   "execution_count": 23,
   "id": "137a5e17",
   "metadata": {},
   "outputs": [],
   "source": [
    "d.update(d1)"
   ]
  },
  {
   "cell_type": "code",
   "execution_count": 24,
   "id": "67a82f05",
   "metadata": {},
   "outputs": [
    {
     "data": {
      "text/plain": [
       "{'name': 'Abc',\n",
       " 'Mobile': 123456789,\n",
       " 'Mail_id': 'addpjdfsfjk',\n",
       " 'list': [1, 'ss'],\n",
       " 'tuple': (1, 2, 3, 4),\n",
       " 'set': {2, 3, 4},\n",
       " 'dict': {'k': 12},\n",
       " 'k': 'v'}"
      ]
     },
     "execution_count": 24,
     "metadata": {},
     "output_type": "execute_result"
    }
   ],
   "source": [
    "d"
   ]
  },
  {
   "cell_type": "code",
   "execution_count": 25,
   "id": "8fc3b7d9",
   "metadata": {},
   "outputs": [
    {
     "ename": "TypeError",
     "evalue": "unsupported operand type(s) for +: 'dict' and 'dict'",
     "output_type": "error",
     "traceback": [
      "\u001b[1;31m---------------------------------------------------------------------------\u001b[0m",
      "\u001b[1;31mTypeError\u001b[0m                                 Traceback (most recent call last)",
      "\u001b[1;32m~\\AppData\\Local\\Temp/ipykernel_7864/2481232059.py\u001b[0m in \u001b[0;36m<module>\u001b[1;34m\u001b[0m\n\u001b[1;32m----> 1\u001b[1;33m \u001b[0md\u001b[0m\u001b[1;33m+\u001b[0m\u001b[0md1\u001b[0m\u001b[1;33m\u001b[0m\u001b[1;33m\u001b[0m\u001b[0m\n\u001b[0m",
      "\u001b[1;31mTypeError\u001b[0m: unsupported operand type(s) for +: 'dict' and 'dict'"
     ]
    }
   ],
   "source": [
    "d+d1"
   ]
  },
  {
   "cell_type": "code",
   "execution_count": 26,
   "id": "61df966c",
   "metadata": {},
   "outputs": [],
   "source": [
    "key=(\"Name\", \"mobile\")"
   ]
  },
  {
   "cell_type": "code",
   "execution_count": 27,
   "id": "4e1359a6",
   "metadata": {},
   "outputs": [],
   "source": [
    "value=(\"A\", 123)"
   ]
  },
  {
   "cell_type": "code",
   "execution_count": 28,
   "id": "27bfe9a1",
   "metadata": {},
   "outputs": [],
   "source": [
    "d3= d1.fromkeys(key,value)"
   ]
  },
  {
   "cell_type": "code",
   "execution_count": 29,
   "id": "776ad118",
   "metadata": {},
   "outputs": [
    {
     "data": {
      "text/plain": [
       "{'Name': ('A', 123), 'mobile': ('A', 123)}"
      ]
     },
     "execution_count": 29,
     "metadata": {},
     "output_type": "execute_result"
    }
   ],
   "source": [
    "d3"
   ]
  },
  {
   "cell_type": "code",
   "execution_count": 30,
   "id": "86d757e8",
   "metadata": {},
   "outputs": [
    {
     "data": {
      "text/plain": [
       "{'k': 'v'}"
      ]
     },
     "execution_count": 30,
     "metadata": {},
     "output_type": "execute_result"
    }
   ],
   "source": [
    "d1"
   ]
  },
  {
   "cell_type": "code",
   "execution_count": 32,
   "id": "c94a51c4",
   "metadata": {},
   "outputs": [],
   "source": [
    "d1={_4:\"v\"}"
   ]
  },
  {
   "cell_type": "code",
   "execution_count": 33,
   "id": "cd3b3446",
   "metadata": {},
   "outputs": [
    {
     "data": {
      "text/plain": [
       "'v'"
      ]
     },
     "execution_count": 33,
     "metadata": {},
     "output_type": "execute_result"
    }
   ],
   "source": [
    "d1[_4]"
   ]
  },
  {
   "cell_type": "code",
   "execution_count": null,
   "id": "2e0544e0",
   "metadata": {},
   "outputs": [],
   "source": []
  }
 ],
 "metadata": {
  "kernelspec": {
   "display_name": "Python 3 (ipykernel)",
   "language": "python",
   "name": "python3"
  },
  "language_info": {
   "codemirror_mode": {
    "name": "ipython",
    "version": 3
   },
   "file_extension": ".py",
   "mimetype": "text/x-python",
   "name": "python",
   "nbconvert_exporter": "python",
   "pygments_lexer": "ipython3",
   "version": "3.9.7"
  }
 },
 "nbformat": 4,
 "nbformat_minor": 5
}
