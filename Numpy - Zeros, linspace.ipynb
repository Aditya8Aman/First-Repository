{
 "cells": [
  {
   "cell_type": "code",
   "execution_count": 1,
   "id": "58a0191c",
   "metadata": {},
   "outputs": [],
   "source": [
    "from numpy import *"
   ]
  },
  {
   "cell_type": "code",
   "execution_count": 2,
   "id": "98a0194d",
   "metadata": {},
   "outputs": [],
   "source": [
    "a=array([1,2,3,3,4])"
   ]
  },
  {
   "cell_type": "code",
   "execution_count": 3,
   "id": "8542b4b2",
   "metadata": {},
   "outputs": [
    {
     "data": {
      "text/plain": [
       "array([1, 2, 3, 3, 4])"
      ]
     },
     "execution_count": 3,
     "metadata": {},
     "output_type": "execute_result"
    }
   ],
   "source": [
    "a"
   ]
  },
  {
   "cell_type": "code",
   "execution_count": 4,
   "id": "6a837d0e",
   "metadata": {},
   "outputs": [
    {
     "ename": "NameError",
     "evalue": "name 'np' is not defined",
     "output_type": "error",
     "traceback": [
      "\u001b[1;31m---------------------------------------------------------------------------\u001b[0m",
      "\u001b[1;31mNameError\u001b[0m                                 Traceback (most recent call last)",
      "\u001b[1;32m~\\AppData\\Local\\Temp/ipykernel_2960/4194979871.py\u001b[0m in \u001b[0;36m<module>\u001b[1;34m\u001b[0m\n\u001b[1;32m----> 1\u001b[1;33m \u001b[0mnp\u001b[0m\u001b[1;33m.\u001b[0m\u001b[0masarray\u001b[0m\u001b[1;33m(\u001b[0m\u001b[0ma\u001b[0m\u001b[1;33m)\u001b[0m\u001b[1;33m\u001b[0m\u001b[1;33m\u001b[0m\u001b[0m\n\u001b[0m",
      "\u001b[1;31mNameError\u001b[0m: name 'np' is not defined"
     ]
    }
   ],
   "source": [
    "np.asarray(a)"
   ]
  },
  {
   "cell_type": "code",
   "execution_count": null,
   "id": "262f9c38",
   "metadata": {},
   "outputs": [],
   "source": [
    "zeros(5)"
   ]
  },
  {
   "cell_type": "code",
   "execution_count": null,
   "id": "718c3cc4",
   "metadata": {},
   "outputs": [],
   "source": [
    "zeros((3,3,2))"
   ]
  },
  {
   "cell_type": "code",
   "execution_count": null,
   "id": "e5a58a7e",
   "metadata": {},
   "outputs": [],
   "source": [
    " 5+zeros((3,4))"
   ]
  },
  {
   "cell_type": "code",
   "execution_count": null,
   "id": "760ed8ce",
   "metadata": {},
   "outputs": [],
   "source": [
    "empty((4,5))"
   ]
  },
  {
   "cell_type": "code",
   "execution_count": null,
   "id": "30917073",
   "metadata": {},
   "outputs": [],
   "source": [
    "linspace(2,6)"
   ]
  },
  {
   "cell_type": "code",
   "execution_count": 5,
   "id": "5b294ab4",
   "metadata": {},
   "outputs": [],
   "source": [
    "a=linspace(2,6,10)"
   ]
  },
  {
   "cell_type": "code",
   "execution_count": 6,
   "id": "d32f1453",
   "metadata": {},
   "outputs": [
    {
     "data": {
      "text/plain": [
       "array([[2.        , 2.44444444, 2.88888889, 3.33333333, 3.77777778],\n",
       "       [4.22222222, 4.66666667, 5.11111111, 5.55555556, 6.        ]])"
      ]
     },
     "execution_count": 6,
     "metadata": {},
     "output_type": "execute_result"
    }
   ],
   "source": [
    "a.reshape(2,5)"
   ]
  },
  {
   "cell_type": "code",
   "execution_count": 7,
   "id": "b7be2dfe",
   "metadata": {},
   "outputs": [
    {
     "data": {
      "text/plain": [
       "(array([ 1. ,  2.1,  3.2,  4.3,  5.4,  6.5,  7.6,  8.7,  9.8, 10.9]), 1.1)"
      ]
     },
     "execution_count": 7,
     "metadata": {},
     "output_type": "execute_result"
    }
   ],
   "source": [
    "linspace(1,12,10,endpoint=False,retstep=True)"
   ]
  },
  {
   "cell_type": "code",
   "execution_count": 8,
   "id": "beed06f1",
   "metadata": {},
   "outputs": [
    {
     "data": {
      "text/plain": [
       "array([  100.        ,   166.81005372,   278.25594022,   464.15888336,\n",
       "         774.26368268,  1291.54966501,  2154.43469003,  3593.8136638 ,\n",
       "        5994.84250319, 10000.        ])"
      ]
     },
     "execution_count": 8,
     "metadata": {},
     "output_type": "execute_result"
    }
   ],
   "source": [
    "logspace(2,4,10,base=10)"
   ]
  },
  {
   "cell_type": "code",
   "execution_count": 9,
   "id": "c46dc99b",
   "metadata": {},
   "outputs": [],
   "source": [
    "a=arange(16)"
   ]
  },
  {
   "cell_type": "code",
   "execution_count": 10,
   "id": "0503bf56",
   "metadata": {},
   "outputs": [
    {
     "data": {
      "text/plain": [
       "array([[ 0,  1,  2,  3],\n",
       "       [ 4,  5,  6,  7],\n",
       "       [ 8,  9, 10, 11],\n",
       "       [12, 13, 14, 15]])"
      ]
     },
     "execution_count": 10,
     "metadata": {},
     "output_type": "execute_result"
    }
   ],
   "source": [
    "a.reshape(4,4)"
   ]
  },
  {
   "cell_type": "code",
   "execution_count": 11,
   "id": "e90381a9",
   "metadata": {},
   "outputs": [
    {
     "data": {
      "text/plain": [
       "15"
      ]
     },
     "execution_count": 11,
     "metadata": {},
     "output_type": "execute_result"
    }
   ],
   "source": [
    "a.max()"
   ]
  },
  {
   "cell_type": "code",
   "execution_count": 12,
   "id": "92a4d35a",
   "metadata": {},
   "outputs": [],
   "source": [
    "a=arange(2,30)"
   ]
  },
  {
   "cell_type": "code",
   "execution_count": 17,
   "id": "2d48d4c4",
   "metadata": {},
   "outputs": [
    {
     "data": {
      "text/plain": [
       "array([[ 2,  3,  4,  5,  6,  7,  8],\n",
       "       [ 9, 10, 11, 12, 13, 14, 15],\n",
       "       [16, 17, 18, 19, 20, 21, 22],\n",
       "       [23, 24, 25, 26, 27, 28, 29]])"
      ]
     },
     "execution_count": 17,
     "metadata": {},
     "output_type": "execute_result"
    }
   ],
   "source": [
    "a.reshape(4,-1)"
   ]
  },
  {
   "cell_type": "code",
   "execution_count": 14,
   "id": "8f66b862",
   "metadata": {},
   "outputs": [
    {
     "data": {
      "text/plain": [
       "29"
      ]
     },
     "execution_count": 14,
     "metadata": {},
     "output_type": "execute_result"
    }
   ],
   "source": [
    "a.max()"
   ]
  },
  {
   "cell_type": "code",
   "execution_count": 15,
   "id": "9aab241b",
   "metadata": {},
   "outputs": [
    {
     "ename": "AxisError",
     "evalue": "axis 1 is out of bounds for array of dimension 1",
     "output_type": "error",
     "traceback": [
      "\u001b[1;31m---------------------------------------------------------------------------\u001b[0m",
      "\u001b[1;31mAxisError\u001b[0m                                 Traceback (most recent call last)",
      "\u001b[1;32m~\\AppData\\Local\\Temp/ipykernel_2960/3457779128.py\u001b[0m in \u001b[0;36m<module>\u001b[1;34m\u001b[0m\n\u001b[1;32m----> 1\u001b[1;33m \u001b[0ma\u001b[0m\u001b[1;33m.\u001b[0m\u001b[0mmax\u001b[0m\u001b[1;33m(\u001b[0m\u001b[0maxis\u001b[0m\u001b[1;33m=\u001b[0m\u001b[1;36m1\u001b[0m\u001b[1;33m)\u001b[0m\u001b[1;33m\u001b[0m\u001b[1;33m\u001b[0m\u001b[0m\n\u001b[0m",
      "\u001b[1;32m~\\anaconda3\\lib\\site-packages\\numpy\\core\\_methods.py\u001b[0m in \u001b[0;36m_amax\u001b[1;34m(a, axis, out, keepdims, initial, where)\u001b[0m\n\u001b[0;32m     37\u001b[0m def _amax(a, axis=None, out=None, keepdims=False,\n\u001b[0;32m     38\u001b[0m           initial=_NoValue, where=True):\n\u001b[1;32m---> 39\u001b[1;33m     \u001b[1;32mreturn\u001b[0m \u001b[0mumr_maximum\u001b[0m\u001b[1;33m(\u001b[0m\u001b[0ma\u001b[0m\u001b[1;33m,\u001b[0m \u001b[0maxis\u001b[0m\u001b[1;33m,\u001b[0m \u001b[1;32mNone\u001b[0m\u001b[1;33m,\u001b[0m \u001b[0mout\u001b[0m\u001b[1;33m,\u001b[0m \u001b[0mkeepdims\u001b[0m\u001b[1;33m,\u001b[0m \u001b[0minitial\u001b[0m\u001b[1;33m,\u001b[0m \u001b[0mwhere\u001b[0m\u001b[1;33m)\u001b[0m\u001b[1;33m\u001b[0m\u001b[1;33m\u001b[0m\u001b[0m\n\u001b[0m\u001b[0;32m     40\u001b[0m \u001b[1;33m\u001b[0m\u001b[0m\n\u001b[0;32m     41\u001b[0m def _amin(a, axis=None, out=None, keepdims=False,\n",
      "\u001b[1;31mAxisError\u001b[0m: axis 1 is out of bounds for array of dimension 1"
     ]
    }
   ],
   "source": [
    "a.max(axis=1)"
   ]
  },
  {
   "cell_type": "code",
   "execution_count": 28,
   "id": "a3f73e00",
   "metadata": {},
   "outputs": [
    {
     "data": {
      "text/plain": [
       "array([[[ 2,  3],\n",
       "        [ 4,  5]],\n",
       "\n",
       "       [[ 6,  7],\n",
       "        [ 8,  9]],\n",
       "\n",
       "       [[10, 11],\n",
       "        [12, 13]],\n",
       "\n",
       "       [[14, 15],\n",
       "        [16, 17]],\n",
       "\n",
       "       [[18, 19],\n",
       "        [20, 21]],\n",
       "\n",
       "       [[22, 23],\n",
       "        [24, 25]],\n",
       "\n",
       "       [[26, 27],\n",
       "        [28, 29]]])"
      ]
     },
     "execution_count": 28,
     "metadata": {},
     "output_type": "execute_result"
    }
   ],
   "source": [
    "a.reshape(7,2,2)"
   ]
  },
  {
   "cell_type": "code",
   "execution_count": 29,
   "id": "df145413",
   "metadata": {},
   "outputs": [
    {
     "data": {
      "text/plain": [
       "array([[ 4,  5],\n",
       "       [ 8,  9],\n",
       "       [12, 13],\n",
       "       [16, 17],\n",
       "       [20, 21],\n",
       "       [24, 25],\n",
       "       [28, 29]])"
      ]
     },
     "execution_count": 29,
     "metadata": {},
     "output_type": "execute_result"
    }
   ],
   "source": [
    "a.reshape(7,2,2).max(axis=1)"
   ]
  },
  {
   "cell_type": "code",
   "execution_count": 30,
   "id": "88f449f8",
   "metadata": {},
   "outputs": [
    {
     "data": {
      "text/plain": [
       "array([[26, 27],\n",
       "       [28, 29]])"
      ]
     },
     "execution_count": 30,
     "metadata": {},
     "output_type": "execute_result"
    }
   ],
   "source": [
    "a.reshape(7,2,2).max(axis=0)"
   ]
  },
  {
   "cell_type": "code",
   "execution_count": 35,
   "id": "109a9f49",
   "metadata": {},
   "outputs": [],
   "source": [
    "arr=random.rand(1,36).reshape(6,6)"
   ]
  },
  {
   "cell_type": "code",
   "execution_count": 37,
   "id": "90180542",
   "metadata": {},
   "outputs": [
    {
     "data": {
      "text/plain": [
       "array([[0.69967616, 0.3949659 , 0.29032432, 0.28636484, 0.40142395,\n",
       "        0.78174682],\n",
       "       [0.90015129, 0.14273908, 0.69063313, 0.52199187, 0.55600725,\n",
       "        0.05886817],\n",
       "       [0.38059496, 0.62047613, 0.68586475, 0.54019491, 0.14718624,\n",
       "        0.30203004],\n",
       "       [0.08184664, 0.35921081, 0.76114165, 0.84739374, 0.53270417,\n",
       "        0.49581098],\n",
       "       [0.5836322 , 0.41829012, 0.84360074, 0.07429634, 0.15769469,\n",
       "        0.69002387],\n",
       "       [0.86335639, 0.30864967, 0.97968241, 0.54281213, 0.05053209,\n",
       "        0.00383565]])"
      ]
     },
     "execution_count": 37,
     "metadata": {},
     "output_type": "execute_result"
    }
   ],
   "source": [
    "arr.reshape(6,6)"
   ]
  },
  {
   "cell_type": "code",
   "execution_count": 45,
   "id": "47646639",
   "metadata": {},
   "outputs": [],
   "source": [
    "arr= linspace(1,100,36).reshape(6,6)"
   ]
  },
  {
   "cell_type": "code",
   "execution_count": 46,
   "id": "8ea64bd0",
   "metadata": {},
   "outputs": [
    {
     "data": {
      "text/plain": [
       "array([[  1.        ,   3.82857143,   6.65714286,   9.48571429,\n",
       "         12.31428571,  15.14285714],\n",
       "       [ 17.97142857,  20.8       ,  23.62857143,  26.45714286,\n",
       "         29.28571429,  32.11428571],\n",
       "       [ 34.94285714,  37.77142857,  40.6       ,  43.42857143,\n",
       "         46.25714286,  49.08571429],\n",
       "       [ 51.91428571,  54.74285714,  57.57142857,  60.4       ,\n",
       "         63.22857143,  66.05714286],\n",
       "       [ 68.88571429,  71.71428571,  74.54285714,  77.37142857,\n",
       "         80.2       ,  83.02857143],\n",
       "       [ 85.85714286,  88.68571429,  91.51428571,  94.34285714,\n",
       "         97.17142857, 100.        ]])"
      ]
     },
     "execution_count": 46,
     "metadata": {},
     "output_type": "execute_result"
    }
   ],
   "source": [
    "arr"
   ]
  },
  {
   "cell_type": "code",
   "execution_count": 47,
   "id": "8b302b32",
   "metadata": {},
   "outputs": [
    {
     "data": {
      "text/plain": [
       "100.0"
      ]
     },
     "execution_count": 47,
     "metadata": {},
     "output_type": "execute_result"
    }
   ],
   "source": [
    "arr.max()"
   ]
  },
  {
   "cell_type": "code",
   "execution_count": 48,
   "id": "40e17cc6",
   "metadata": {},
   "outputs": [
    {
     "data": {
      "text/plain": [
       "array([ 15.14285714,  32.11428571,  49.08571429,  66.05714286,\n",
       "        83.02857143, 100.        ])"
      ]
     },
     "execution_count": 48,
     "metadata": {},
     "output_type": "execute_result"
    }
   ],
   "source": [
    "arr.max(axis=1)"
   ]
  },
  {
   "cell_type": "code",
   "execution_count": 49,
   "id": "e6d12ccf",
   "metadata": {},
   "outputs": [],
   "source": [
    "arr=arange(4,40).reshape(6,6)"
   ]
  },
  {
   "cell_type": "code",
   "execution_count": 50,
   "id": "3e08a4f3",
   "metadata": {},
   "outputs": [
    {
     "data": {
      "text/plain": [
       "array([[ 4,  5,  6,  7,  8,  9],\n",
       "       [10, 11, 12, 13, 14, 15],\n",
       "       [16, 17, 18, 19, 20, 21],\n",
       "       [22, 23, 24, 25, 26, 27],\n",
       "       [28, 29, 30, 31, 32, 33],\n",
       "       [34, 35, 36, 37, 38, 39]])"
      ]
     },
     "execution_count": 50,
     "metadata": {},
     "output_type": "execute_result"
    }
   ],
   "source": [
    "arr"
   ]
  },
  {
   "cell_type": "code",
   "execution_count": 52,
   "id": "96f6fe92",
   "metadata": {},
   "outputs": [
    {
     "data": {
      "text/plain": [
       "39"
      ]
     },
     "execution_count": 52,
     "metadata": {},
     "output_type": "execute_result"
    }
   ],
   "source": [
    "arr.max()"
   ]
  },
  {
   "cell_type": "code",
   "execution_count": 53,
   "id": "d3c4cf06",
   "metadata": {},
   "outputs": [
    {
     "data": {
      "text/plain": [
       "array([ 9, 15, 21, 27, 33, 39])"
      ]
     },
     "execution_count": 53,
     "metadata": {},
     "output_type": "execute_result"
    }
   ],
   "source": [
    "arr.max(axis=1)"
   ]
  },
  {
   "cell_type": "code",
   "execution_count": 54,
   "id": "4ffa8bb1",
   "metadata": {},
   "outputs": [
    {
     "data": {
      "text/plain": [
       "array([34, 35, 36, 37, 38, 39])"
      ]
     },
     "execution_count": 54,
     "metadata": {},
     "output_type": "execute_result"
    }
   ],
   "source": [
    "arr.max(axis=0)"
   ]
  },
  {
   "cell_type": "code",
   "execution_count": 57,
   "id": "7bb79c49",
   "metadata": {},
   "outputs": [
    {
     "data": {
      "text/plain": [
       "array([[11, 12, 13],\n",
       "       [17, 18, 19],\n",
       "       [23, 24, 25]])"
      ]
     },
     "execution_count": 57,
     "metadata": {},
     "output_type": "execute_result"
    }
   ],
   "source": [
    "arr[1:4,1:4]"
   ]
  },
  {
   "cell_type": "code",
   "execution_count": 59,
   "id": "e27f8821",
   "metadata": {},
   "outputs": [
    {
     "data": {
      "text/plain": [
       "array([[14, 15, 16, 17, 18, 19],\n",
       "       [20, 21, 22, 23, 24, 25],\n",
       "       [26, 27, 28, 29, 30, 31],\n",
       "       [32, 33, 34, 35, 36, 37],\n",
       "       [38, 39, 40, 41, 42, 43],\n",
       "       [44, 45, 46, 47, 48, 49]])"
      ]
     },
     "execution_count": 59,
     "metadata": {},
     "output_type": "execute_result"
    }
   ],
   "source": [
    "arr+10"
   ]
  },
  {
   "cell_type": "code",
   "execution_count": 60,
   "id": "2f0bdf3c",
   "metadata": {},
   "outputs": [
    {
     "name": "stderr",
     "output_type": "stream",
     "text": [
      "C:\\Users\\MSI\\AppData\\Local\\Temp/ipykernel_2960/4291252909.py:1: RuntimeWarning: divide by zero encountered in true_divide\n",
      "  arr/0\n"
     ]
    },
    {
     "data": {
      "text/plain": [
       "array([[inf, inf, inf, inf, inf, inf],\n",
       "       [inf, inf, inf, inf, inf, inf],\n",
       "       [inf, inf, inf, inf, inf, inf],\n",
       "       [inf, inf, inf, inf, inf, inf],\n",
       "       [inf, inf, inf, inf, inf, inf],\n",
       "       [inf, inf, inf, inf, inf, inf]])"
      ]
     },
     "execution_count": 60,
     "metadata": {},
     "output_type": "execute_result"
    }
   ],
   "source": [
    "arr/0"
   ]
  },
  {
   "cell_type": "code",
   "execution_count": 61,
   "id": "deb52e39",
   "metadata": {},
   "outputs": [
    {
     "data": {
      "text/plain": [
       "array([[  16,   25,   36,   49,   64,   81],\n",
       "       [ 100,  121,  144,  169,  196,  225],\n",
       "       [ 256,  289,  324,  361,  400,  441],\n",
       "       [ 484,  529,  576,  625,  676,  729],\n",
       "       [ 784,  841,  900,  961, 1024, 1089],\n",
       "       [1156, 1225, 1296, 1369, 1444, 1521]], dtype=int32)"
      ]
     },
     "execution_count": 61,
     "metadata": {},
     "output_type": "execute_result"
    }
   ],
   "source": [
    "arr**2"
   ]
  },
  {
   "cell_type": "code",
   "execution_count": 69,
   "id": "5419466f",
   "metadata": {},
   "outputs": [],
   "source": [
    "b=array([2,2,3,4,5,6])"
   ]
  },
  {
   "cell_type": "code",
   "execution_count": 70,
   "id": "97682c32",
   "metadata": {},
   "outputs": [
    {
     "data": {
      "text/plain": [
       "array([[ 6,  7,  9, 11, 13, 15],\n",
       "       [12, 13, 15, 17, 19, 21],\n",
       "       [18, 19, 21, 23, 25, 27],\n",
       "       [24, 25, 27, 29, 31, 33],\n",
       "       [30, 31, 33, 35, 37, 39],\n",
       "       [36, 37, 39, 41, 43, 45]])"
      ]
     },
     "execution_count": 70,
     "metadata": {},
     "output_type": "execute_result"
    }
   ],
   "source": [
    "arr+b"
   ]
  },
  {
   "cell_type": "code",
   "execution_count": 71,
   "id": "e76a38b0",
   "metadata": {},
   "outputs": [
    {
     "data": {
      "text/plain": [
       "array([[ 6,  7,  9, 11, 13, 15],\n",
       "       [12, 13, 15, 17, 19, 21],\n",
       "       [18, 19, 21, 23, 25, 27],\n",
       "       [24, 25, 27, 29, 31, 33],\n",
       "       [30, 31, 33, 35, 37, 39],\n",
       "       [36, 37, 39, 41, 43, 45]])"
      ]
     },
     "execution_count": 71,
     "metadata": {},
     "output_type": "execute_result"
    }
   ],
   "source": [
    "arr+b.T"
   ]
  },
  {
   "cell_type": "code",
   "execution_count": 73,
   "id": "d658a13a",
   "metadata": {},
   "outputs": [
    {
     "data": {
      "text/plain": [
       "array([2, 2, 3, 4, 5, 6])"
      ]
     },
     "execution_count": 73,
     "metadata": {},
     "output_type": "execute_result"
    }
   ],
   "source": [
    "b.T\n",
    "#can't be transposed"
   ]
  },
  {
   "cell_type": "code",
   "execution_count": 74,
   "id": "8eaeca9d",
   "metadata": {},
   "outputs": [],
   "source": [
    "b=b.reshape(1,-1)"
   ]
  },
  {
   "cell_type": "code",
   "execution_count": 76,
   "id": "19562e08",
   "metadata": {},
   "outputs": [
    {
     "data": {
      "text/plain": [
       "array([[2, 2, 3, 4, 5, 6]])"
      ]
     },
     "execution_count": 76,
     "metadata": {},
     "output_type": "execute_result"
    }
   ],
   "source": [
    "b"
   ]
  },
  {
   "cell_type": "code",
   "execution_count": 75,
   "id": "ce41d94a",
   "metadata": {},
   "outputs": [
    {
     "data": {
      "text/plain": [
       "array([[ 6,  7,  8,  9, 10, 11],\n",
       "       [12, 13, 14, 15, 16, 17],\n",
       "       [19, 20, 21, 22, 23, 24],\n",
       "       [26, 27, 28, 29, 30, 31],\n",
       "       [33, 34, 35, 36, 37, 38],\n",
       "       [40, 41, 42, 43, 44, 45]])"
      ]
     },
     "execution_count": 75,
     "metadata": {},
     "output_type": "execute_result"
    }
   ],
   "source": [
    "arr+b.T"
   ]
  },
  {
   "cell_type": "code",
   "execution_count": 77,
   "id": "560c1e24",
   "metadata": {},
   "outputs": [],
   "source": [
    "x=array([1,2,3])"
   ]
  },
  {
   "cell_type": "code",
   "execution_count": 79,
   "id": "460a97a7",
   "metadata": {},
   "outputs": [],
   "source": [
    "y=x"
   ]
  },
  {
   "cell_type": "code",
   "execution_count": 80,
   "id": "08ea759b",
   "metadata": {},
   "outputs": [],
   "source": [
    "z=copy(x)"
   ]
  },
  {
   "cell_type": "code",
   "execution_count": 81,
   "id": "51c80b8e",
   "metadata": {},
   "outputs": [],
   "source": [
    "x[0]=100"
   ]
  },
  {
   "cell_type": "code",
   "execution_count": 82,
   "id": "9b356d37",
   "metadata": {},
   "outputs": [
    {
     "data": {
      "text/plain": [
       "array([100,   2,   3])"
      ]
     },
     "execution_count": 82,
     "metadata": {},
     "output_type": "execute_result"
    }
   ],
   "source": [
    "y"
   ]
  },
  {
   "cell_type": "code",
   "execution_count": 83,
   "id": "117dccc7",
   "metadata": {},
   "outputs": [
    {
     "data": {
      "text/plain": [
       "array([1, 2, 3])"
      ]
     },
     "execution_count": 83,
     "metadata": {},
     "output_type": "execute_result"
    }
   ],
   "source": [
    "z"
   ]
  },
  {
   "cell_type": "code",
   "execution_count": 84,
   "id": "35ee0359",
   "metadata": {},
   "outputs": [
    {
     "data": {
      "text/plain": [
       "1542866118768"
      ]
     },
     "execution_count": 84,
     "metadata": {},
     "output_type": "execute_result"
    }
   ],
   "source": [
    "id(x)"
   ]
  },
  {
   "cell_type": "code",
   "execution_count": 85,
   "id": "e0f30b08",
   "metadata": {},
   "outputs": [
    {
     "data": {
      "text/plain": [
       "1542866118768"
      ]
     },
     "execution_count": 85,
     "metadata": {},
     "output_type": "execute_result"
    }
   ],
   "source": [
    "id(y)"
   ]
  },
  {
   "cell_type": "code",
   "execution_count": 86,
   "id": "b2eccd03",
   "metadata": {},
   "outputs": [
    {
     "data": {
      "text/plain": [
       "1542887403120"
      ]
     },
     "execution_count": 86,
     "metadata": {},
     "output_type": "execute_result"
    }
   ],
   "source": [
    "id(z)"
   ]
  },
  {
   "cell_type": "code",
   "execution_count": 87,
   "id": "06366b8a",
   "metadata": {},
   "outputs": [
    {
     "data": {
      "text/plain": [
       "1542900937488"
      ]
     },
     "execution_count": 87,
     "metadata": {},
     "output_type": "execute_result"
    }
   ],
   "source": [
    "id(x[0])"
   ]
  },
  {
   "cell_type": "code",
   "execution_count": 88,
   "id": "2df6da22",
   "metadata": {},
   "outputs": [
    {
     "data": {
      "text/plain": [
       "1542900937840"
      ]
     },
     "execution_count": 88,
     "metadata": {},
     "output_type": "execute_result"
    }
   ],
   "source": [
    "id(y[0])"
   ]
  },
  {
   "cell_type": "code",
   "execution_count": null,
   "id": "b88b5fb0",
   "metadata": {},
   "outputs": [],
   "source": []
  }
 ],
 "metadata": {
  "kernelspec": {
   "display_name": "Python 3 (ipykernel)",
   "language": "python",
   "name": "python3"
  },
  "language_info": {
   "codemirror_mode": {
    "name": "ipython",
    "version": 3
   },
   "file_extension": ".py",
   "mimetype": "text/x-python",
   "name": "python",
   "nbconvert_exporter": "python",
   "pygments_lexer": "ipython3",
   "version": "3.9.7"
  }
 },
 "nbformat": 4,
 "nbformat_minor": 5
}
