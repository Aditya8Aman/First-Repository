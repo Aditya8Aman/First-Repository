{
 "cells": [
  {
   "cell_type": "code",
   "execution_count": null,
   "id": "0bb484e6",
   "metadata": {},
   "outputs": [],
   "source": [
    "import tkinter\n",
    "tw=tkinter.Tk()\n",
    "tw.title('ksdhkhsdfkhsdfkhskhf')\n",
    "#img=tkinter.PhotoImage(file=\"‪‪E:\\\\pnf.png\")\n",
    "#tw.iconphoto(tw,img)\n",
    "tw.geometry(\"600x200+600+250\")\n",
    "tw.mainloop()"
   ]
  },
  {
   "cell_type": "code",
   "execution_count": 1,
   "id": "6f1f1450",
   "metadata": {},
   "outputs": [],
   "source": [
    "import tkinter\n",
    "tw=tkinter.Tk()\n",
    "tw.title('ksdhkhsdfkhsdfkhskhf')\n",
    "label= tkinter.Label(tw, text=\"Welcome to Python\")\n",
    "label.pack()\n",
    "tw.geometry(\"600x200+600+250\")\n",
    "tw.mainloop()"
   ]
  },
  {
   "cell_type": "code",
   "execution_count": 4,
   "id": "05cb4357",
   "metadata": {},
   "outputs": [],
   "source": [
    "root = tkinter.Tk()\n",
    "lbl1=tkinter.Label(root,text=\"Welcome to python in ineuron by sunny\")\n",
    "lbl2=tkinter.Label(root,text=\"Python Rocks!\")\n",
    "lbl1.pack()\n",
    "lbl2.pack()\n",
    "root.resizable(True,False)\n",
    "root.mainloop()\n"
   ]
  },
  {
   "cell_type": "code",
   "execution_count": 5,
   "id": "4443264e",
   "metadata": {},
   "outputs": [],
   "source": [
    "tw=tkinter.Tk()\n",
    "tw.title('ksdhkhsdfkhsdfkhskhf')\n",
    "label= tkinter.Label(tw, text=\"Welcome to Python\", bg=\"red\", fg='yellow')\n",
    "label.pack()\n",
    "tw.geometry(\"600x200+600+250\")\n",
    "tw.mainloop()"
   ]
  },
  {
   "cell_type": "code",
   "execution_count": 6,
   "id": "06494afc",
   "metadata": {},
   "outputs": [],
   "source": [
    "root = tkinter.Tk()\n",
    "root.geometry(\"600x200\")\n",
    "lbl=tkinter.Label(root,text=\"Welcome To Python\")\n",
    "lbl.config(fg=\"red\",bg=\"yellow\")#This can also be lbl.configure(fg=“red”,bg=“yellow”)\n",
    "lbl.pack()\n",
    "root.mainloop() "
   ]
  },
  {
   "cell_type": "code",
   "execution_count": 10,
   "id": "3562bfc8",
   "metadata": {},
   "outputs": [],
   "source": [
    "import tkinter\n",
    "root = tkinter.Tk()\n",
    "lbl=tkinter.Label(root, text=\"Welcome\")\n",
    "lbl.config(fg=\"red\",bg=\"blue\")\n",
    "lbl.configure(bg=\"yellow\")\n",
    "lbl.pack()\n",
    "root.geometry(\"600x200\")\n",
    "root.mainloop()"
   ]
  },
  {
   "cell_type": "code",
   "execution_count": 20,
   "id": "493c5086",
   "metadata": {},
   "outputs": [],
   "source": [
    "import tkinter\n",
    "tw = tkinter.Tk()\n",
    "tw.geometry(\"600x200\")\n",
    "tw.configure(bg=\"yellow\")\n",
    "lbl=tkinter.Label(tw, text=\"Welcome to python\", bg=\"red\",fg=\"blue\")\n",
    "\n",
    "lbl.pack()\n",
    "tw.mainloop()"
   ]
  },
  {
   "cell_type": "code",
   "execution_count": 23,
   "id": "118143e2",
   "metadata": {},
   "outputs": [
    {
     "name": "stdout",
     "output_type": "stream",
     "text": [
      "['activebackground', 'activeforeground', 'anchor', 'background', 'bd', 'bg', 'bitmap', 'borderwidth', 'compound', 'cursor', 'disabledforeground', 'fg', 'font', 'foreground', 'height', 'highlightbackground', 'highlightcolor', 'highlightthickness', 'image', 'justify', 'padx', 'pady', 'relief', 'state', 'takefocus', 'text', 'textvariable', 'underline', 'width', 'wraplength']\n"
     ]
    }
   ],
   "source": [
    "from tkinter import *\n",
    "tw = Tk()\n",
    "tw.geometry(\"600x200\")\n",
    "tw.configure(bg=\"yellow\")\n",
    "lbl=Label(tw, text=\"Welcome to python\", bg=\"red\",fg=\"blue\", font=\"Amalia 22 bold\")\n",
    "print(lbl.keys())\n",
    "lbl.pack()\n",
    "tw.mainloop()"
   ]
  },
  {
   "cell_type": "code",
   "execution_count": 30,
   "id": "c372dba3",
   "metadata": {},
   "outputs": [],
   "source": [
    "root = tkinter.Tk()\n",
    "root.geometry(\"600x200\")\n",
    "lbl=tkinter.Label(root,text=\"Welcome To Python\",)\n",
    "lbl.config(font=(\"Thin Cool\" ,40, \"bold\"))\n",
    "lbl.pack()\n",
    "root.mainloop()\n"
   ]
  },
  {
   "cell_type": "code",
   "execution_count": 32,
   "id": "59b68cbb",
   "metadata": {},
   "outputs": [],
   "source": [
    "root = tkinter.Tk()\n",
    "root.geometry(\"600x200\")\n",
    "lbl=tkinter.Label(root,text=\"Welcome To Python\",)\n",
    "#lbl.config(font=(\"Thin Cool\" ,40, \"bold\"))\n",
    "lbl.config(fg=\"red\",font=(\"Times New Roman\", 20, \"bold\"))\n",
    "lbl.pack()\n",
    "root.mainloop()"
   ]
  },
  {
   "cell_type": "code",
   "execution_count": 35,
   "id": "70b481b6",
   "metadata": {},
   "outputs": [],
   "source": [
    "import tkinter.font as tkFont\n",
    "root = tkinter.Tk()\n",
    "root.geometry(\"600x200\")\n",
    "myfont=tkFont.Font(family='Amalia',size=33,weight=\"bold\",slant='roman',underline=1,overstrike=1)\n",
    "lbl=tkinter.Label(root,text=\"Welcome To Python\",font=myfont)\n",
    "\n",
    "lbl.pack()\n",
    "root.mainloop()"
   ]
  },
  {
   "cell_type": "code",
   "execution_count": 4,
   "id": "39baf48a",
   "metadata": {},
   "outputs": [],
   "source": [
    "import tkinter\n",
    "import tkinter.font as tkFont\n",
    "root = tkinter.Tk()\n",
    "root.geometry(\"400x400\")\n",
    "myfont=tkFont.Font(family=\"Amelia\",size=\"22\")\n",
    "lbl1=tkinter.Label(root,text=\"solid\",font=myfont,borderwidth=2,relief=\"solid\",width=20)\n",
    "lbl2=tkinter.Label(root,text=\"flat\",font=myfont,borderwidth=2,relief=\"flat\",width=20)\n",
    "lbl3=tkinter.Label(root,text=\"raised\",font=myfont,borderwidth=2,relief=\"raised\",width=20)\n",
    "lbl4=tkinter.Label(root,text=\"sunken\",font=myfont,borderwidth=2,relief=\"sunken\",width=20)\n",
    "lbl5=tkinter.Label(root,text=\"ridge\",font=myfont,borderwidth=2,relief=\"ridge\",width=20)\n",
    "lbl6=tkinter.Label(root,text=\"groove\",font=myfont,borderwidth=2,relief=\"groove\",width=20)\n",
    "lbl1.pack()\n",
    "lbl2.pack()\n",
    "lbl3.pack()\n",
    "lbl4.pack()\n",
    "lbl5.pack()\n",
    "lbl6.pack()\n",
    "root.mainloop()"
   ]
  },
  {
   "cell_type": "code",
   "execution_count": 13,
   "id": "4df7c947",
   "metadata": {},
   "outputs": [
    {
     "name": "stdout",
     "output_type": "stream",
     "text": [
      "ghhjfhjfhf\n"
     ]
    }
   ],
   "source": [
    "#text alingn in centre\n",
    "import tkinter\n",
    "import tkinter.font as tkFont\n",
    "root = tkinter.Tk()\n",
    "myfont=tkFont.Font(size=\"22\")\n",
    "lbl=tkinter.Label(root,text=\"Hello\\nIndia\",font=myfont,borderwidth=2,relief=\"groove\",width=20,height=4,anchor='e')\n",
    "lbl.pack()\n",
    "lbl['text']=\"ghhjfhjfhf\"\n",
    "print(lbl['text'])\n",
    "root.mainloop()"
   ]
  },
  {
   "cell_type": "code",
   "execution_count": 20,
   "id": "b0b4236b",
   "metadata": {},
   "outputs": [
    {
     "ename": "SyntaxError",
     "evalue": "invalid non-printable character U+202A (Temp/ipykernel_9212/2942017841.py, line 3)",
     "output_type": "error",
     "traceback": [
      "\u001b[1;36m  File \u001b[1;32m\"C:\\Users\\MSI\\AppData\\Local\\Temp/ipykernel_9212/2942017841.py\"\u001b[1;36m, line \u001b[1;32m3\u001b[0m\n\u001b[1;33m    logo=tkinter.PhotoImage(file=‪\"F:\\\\moonwalk.gif\")\u001b[0m\n\u001b[1;37m                                 ^\u001b[0m\n\u001b[1;31mSyntaxError\u001b[0m\u001b[1;31m:\u001b[0m invalid non-printable character U+202A\n"
     ]
    }
   ],
   "source": [
    "import tkinter\n",
    "root = tkinter.Tk()\n",
    "logo=tkinter.PhotoImage(file=‪\"F:\\\\moonwalk.gif\")\n",
    "lbl=tkinter.Label(root,image=logo)\n",
    "lbl.pack()\n",
    "root.mainloop()"
   ]
  },
  {
   "cell_type": "code",
   "execution_count": null,
   "id": "bbdc9af5",
   "metadata": {},
   "outputs": [],
   "source": []
  }
 ],
 "metadata": {
  "kernelspec": {
   "display_name": "Python 3 (ipykernel)",
   "language": "python",
   "name": "python3"
  },
  "language_info": {
   "codemirror_mode": {
    "name": "ipython",
    "version": 3
   },
   "file_extension": ".py",
   "mimetype": "text/x-python",
   "name": "python",
   "nbconvert_exporter": "python",
   "pygments_lexer": "ipython3",
   "version": "3.9.7"
  }
 },
 "nbformat": 4,
 "nbformat_minor": 5
}
